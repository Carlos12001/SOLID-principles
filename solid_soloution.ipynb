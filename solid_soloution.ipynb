{
 "cells": [
  {
   "cell_type": "markdown",
   "metadata": {},
   "source": [
    "# Tarea de Principios SOLID\n",
    "\n",
    "Desarrolle un ejemplo suyo (no copiado de otro lado) en el cual presente la \n",
    "aplicación de todos y cada uno de los principios de diseño **SOLID**.     \n",
    "\n",
    "Puede ser un solo ejemplo aplicando todo los conceptos, o bien, un ejemplo \n",
    "distinto para cada principio.\n",
    "\n",
    "Lo importante es que cada ejemplo presente lo siguiente:\n",
    "- Código SIN aplicar el respectivo principio\n",
    "- Código APLICANDO el respectivo principio\n",
    "- Justificación del problema sin aplicar el principio, y justificación de lo \n",
    "en la aplicación del principio.\n",
    "\n",
    "\n",
    "\n",
    "Los principios a utilizar son:\n",
    "\n",
    "*`S`ingle Responsibility Principle* **(SRP)** o Principio de Responsabilidad Única\n",
    "\n",
    "*`O`pen-Closed Principle* **(OCP)** o Principio de Abierto/Cerrado\n",
    "\n",
    "*`L`iskov Substitution Principle* **(LSP)** o Principio de Substitución de Liskov\n",
    "\n",
    "*`I`nterface Segregation Principle* **(ISP)** o Principio de Segregación de Interfaz\n",
    "\n",
    "*`D`ependency Inversion Principle* **(DIP)** o Principio de Inversión de Dependencias\n",
    "\n",
    "\n",
    "## Autor\n",
    "\n",
    "Carlos Andrés Mata Calderón - 2019033834"
   ]
  },
  {
   "cell_type": "markdown",
   "metadata": {},
   "source": [
    "## Solución"
   ]
  },
  {
   "cell_type": "markdown",
   "metadata": {},
   "source": [
    "### `S`ingle Responsibility Principle (SRP)\n",
    "\n",
    "Crear una clase que gestione usuarios en un sistema."
   ]
  },
  {
   "cell_type": "markdown",
   "metadata": {},
   "source": [
    "#### Código SIN aplicar SRP\n",
    "\n",
    "En este ejemplo, una única clase UserManager se encarga de manejar datos \n",
    "del usuario, autenticar al usuario y presentar la información del usuario."
   ]
  },
  {
   "cell_type": "code",
   "execution_count": 11,
   "metadata": {},
   "outputs": [],
   "source": [
    "class UserManager:\n",
    "    def __init__(self, user_data):\n",
    "        self.user_data = user_data\n",
    "\n",
    "    def change_user_password(self, new_password):\n",
    "        self.user_data[\"password\"] = new_password\n",
    "        print(\"Password changed.\")\n",
    "\n",
    "    def authenticate_user(self, username, password):\n",
    "        if username == self.user_data[\"username\"] and password == self.user_data[\"password\"]:\n",
    "            print(\"User authenticated.\")\n",
    "            return True\n",
    "        else:\n",
    "            print(\"Authentication failed.\")\n",
    "            return False\n",
    "\n",
    "    def display_user(self):\n",
    "        print(f\"User: {self.user_data['username']}\")\n",
    "        print(f\"Email: {self.user_data['email']}\")\n"
   ]
  },
  {
   "cell_type": "markdown",
   "metadata": {},
   "source": [
    "#### Código APLICANDO SRP\n",
    "\n",
    "Se dividen las responsabilidades en tres clases distintas, para cada\n",
    "una de las responsabilidades."
   ]
  },
  {
   "cell_type": "code",
   "execution_count": 12,
   "metadata": {},
   "outputs": [],
   "source": [
    "class UserDataManager:\n",
    "    def __init__(self, user_data):\n",
    "        self.user_data = user_data\n",
    "\n",
    "    def change_user_password(self, new_password):\n",
    "        self.user_data[\"password\"] = new_password\n",
    "        print(\"Password changed.\")\n",
    "\n",
    "class UserAuth:\n",
    "    def __init__(self, user_data):\n",
    "        self.user_data = user_data\n",
    "\n",
    "    def authenticate_user(self, username, password):\n",
    "        if username == self.user_data[\"username\"] and password == self.user_data[\"password\"]:\n",
    "            print(\"User authenticated.\")\n",
    "            return True\n",
    "        else:\n",
    "            print(\"Authentication failed.\")\n",
    "            return False\n",
    "\n",
    "class UserDisplay:\n",
    "    def __init__(self, user_data):\n",
    "        self.user_data = user_data\n",
    "\n",
    "    def display_user(self):\n",
    "        print(f\"User: {self.user_data['username']}\")\n",
    "        print(f\"Email: {self.user_data['email']}\")\n"
   ]
  },
  {
   "cell_type": "markdown",
   "metadata": {},
   "source": [
    "#### Justificación\n",
    "\n",
    "En el primer caso, UserManager tiene múltiples razones para cambiar \n",
    "(datos, autenticación, presentación), lo que viola SRP. Separando estas\n",
    "responsabilidades, cada clase tiene una única razón para cambiar, \n",
    "mejorando la mantenibilidad y la escalabilidad del código."
   ]
  },
  {
   "cell_type": "markdown",
   "metadata": {},
   "source": [
    "### `O`pen-Closed Principle (OCP)\n",
    "\n",
    "Sistema de procesamiento de documentos."
   ]
  },
  {
   "cell_type": "markdown",
   "metadata": {},
   "source": [
    "#### Código SIN aplicar \n",
    "\n",
    "La clase DocumentProcessor tiene métodos específicos para cada tipo de \n",
    "documento. Cada vez que se necesita añadir soporte para un nuevo tipo \n",
    "de documento, se modifica esta clase."
   ]
  },
  {
   "cell_type": "code",
   "execution_count": 13,
   "metadata": {},
   "outputs": [],
   "source": [
    "class DocumentProcessor:\n",
    "    def processWord(self, content):\n",
    "        print(f\"Processing Word document with content: {content}\")\n",
    "\n",
    "    def processPDF(self, content):\n",
    "        print(f\"Processing PDF document with content: {content}\")\n",
    "\n",
    "    def processExcel(self, content):\n",
    "        print(f\"Processing Excel spreadsheet with content: {content}\")\n"
   ]
  },
  {
   "cell_type": "markdown",
   "metadata": {},
   "source": [
    "#### Código APLICANDO OCP\n",
    "\n",
    "Se introduce una interfaz DocumentHandler y se implementan clases específicas \n",
    "para cada tipo de documento. La clase DocumentProcessor no necesita saber \n",
    "detalles sobre cómo se procesa cada formato; solo necesita interactuar \n",
    "con la interfaz DocumentHandler:"
   ]
  },
  {
   "cell_type": "code",
   "execution_count": 14,
   "metadata": {},
   "outputs": [],
   "source": [
    "from abc import ABC, abstractmethod\n",
    "\n",
    "class DocumentHandler(ABC):\n",
    "    @abstractmethod\n",
    "    def processDocument(self, content):\n",
    "        pass\n",
    "\n",
    "class WordHandler(DocumentHandler):\n",
    "    def processDocument(self, content):\n",
    "        print(f\"Processing Word document with content: {content}\")\n",
    "\n",
    "class PDFHandler(DocumentHandler):\n",
    "    def processDocument(self, content):\n",
    "        print(f\"Processing PDF document with content: {content}\")\n",
    "\n",
    "class ExcelHandler(DocumentHandler):\n",
    "    def processDocument(self, content):\n",
    "        print(f\"Processing Excel spreadsheet with content: {content}\")\n",
    "\n",
    "class DocumentProcessor:\n",
    "    def __init__(self):\n",
    "        self.handlers = {\n",
    "            \"word\": WordHandler(),\n",
    "            \"pdf\": PDFHandler(),\n",
    "            \"excel\": ExcelHandler()\n",
    "        }\n",
    "\n",
    "    def processDocument(self, doc_type, content):\n",
    "        handler = self.handlers.get(doc_type)\n",
    "        if handler:\n",
    "            handler.processDocument(content)\n",
    "        else:\n",
    "            print(\"Document type not supported.\")\n"
   ]
  },
  {
   "cell_type": "markdown",
   "metadata": {},
   "source": [
    "#### Justificación\n",
    "\n",
    "En el código sin OCP, cualquier adición de un nuevo formato de documento\n",
    "requiere cambios en la clase DocumentProcessor, lo que viola el principio \n",
    "de abierto/cerrado. Usando la interfaz DocumentHandler, el sistema puede \n",
    "extenderse fácilmente para nuevos formatos sin modificar el código existente, \n",
    "manteniendo la clase DocumentProcessor cerrada a modificaciones."
   ]
  },
  {
   "cell_type": "markdown",
   "metadata": {},
   "source": [
    "### `L`iskov Substitution Principle (LSP)\n",
    "\n",
    "Sistema de formas geométricas para calcular el área."
   ]
  },
  {
   "cell_type": "markdown",
   "metadata": {},
   "source": [
    "#### Código SIN aplicar LSP\n",
    "\n",
    "La clase base Shape proporciona un método calculateArea() que no se adapta\n",
    "adecuadamente para todas las formas derivadas, especialmente cuando los\n",
    "parámetros necesarios para el cálculo difieren entre formas"
   ]
  },
  {
   "cell_type": "code",
   "execution_count": 15,
   "metadata": {},
   "outputs": [],
   "source": [
    "class Shape:\n",
    "    def calculateArea(self):\n",
    "        pass\n",
    "\n",
    "class Rectangle(Shape):\n",
    "    def __init__(self, width, height):\n",
    "        self.width = width\n",
    "        self.height = height\n",
    "\n",
    "    def calculateArea(self):\n",
    "        return self.width * self.height\n",
    "\n",
    "class Circle(Shape):\n",
    "    def __init__(self, radius):\n",
    "        self.radius = radius\n",
    "\n",
    "    def calculateArea(self):\n",
    "        return 3.14 * self.radius * self.radius\n"
   ]
  },
  {
   "cell_type": "markdown",
   "metadata": {},
   "source": [
    "#### Código APLICANDO LSP\n",
    "\n",
    "La estructura para asegurar que Shape sea una interfaz adecuada para todas\n",
    "sus formas derivadas y que el método calculateArea sea implementado de manera\n",
    "que las instancias de Shape puedan ser sustituidas sin necesidad de conocer\n",
    "el tipo específico de forma"
   ]
  },
  {
   "cell_type": "code",
   "execution_count": 16,
   "metadata": {},
   "outputs": [],
   "source": [
    "from abc import ABC, abstractmethod\n",
    "\n",
    "class Shape(ABC):\n",
    "    @abstractmethod\n",
    "    def calculateArea(self) -> float:\n",
    "        pass\n",
    "\n",
    "class Rectangle(Shape):\n",
    "    def __init__(self, width, height):\n",
    "        self.width = width\n",
    "        self.height = height\n",
    "\n",
    "    def calculateArea(self):\n",
    "        return self.width * self.height\n",
    "\n",
    "class Circle(Shape):\n",
    "    def __init__(self, radius):\n",
    "        self.radius = radius\n",
    "\n",
    "    def calculateArea(self):\n",
    "        return 3.14 * self.radius * self.radius\n"
   ]
  },
  {
   "cell_type": "markdown",
   "metadata": {},
   "source": [
    "#### Justificación\n",
    "\n",
    "En el enfoque inicial, no se puede usar Shape de manera intercambiable\n",
    "sin conocer su tipo específico, lo que viola LSP. Asegurando que\n",
    "calculateArea sea implementado apropiadamente en cada subclase,\n",
    "las instancias de la clase base pueden ser sustituidas por instancias\n",
    "de cualquier subclase."
   ]
  },
  {
   "cell_type": "markdown",
   "metadata": {},
   "source": [
    "### `I`nterface Segregation Principle (ISP)\n",
    "\n",
    "Sistema de gestión de documentos."
   ]
  },
  {
   "cell_type": "markdown",
   "metadata": {},
   "source": [
    "#### Código SIN aplicar ISP\n",
    "\n",
    "Una interfaz DocumentManager grande incluye múltiples métodos que no \n",
    "todos los clientes necesitarán usar."
   ]
  },
  {
   "cell_type": "code",
   "execution_count": 17,
   "metadata": {},
   "outputs": [],
   "source": [
    "class DocumentManager:\n",
    "    def open_document(self, file_path):\n",
    "        pass\n",
    "\n",
    "    def save_document(self, content, file_path):\n",
    "        pass\n",
    "\n",
    "    def print_document(self, content):\n",
    "        pass\n",
    "\n",
    "    def review_document(self, content):\n",
    "        pass\n",
    "\n",
    "class MyDocumentManager(DocumentManager):\n",
    "    def open_document(self, file_path):\n",
    "        print(f\"Opening document from {file_path}\")\n",
    "\n",
    "    def save_document(self, content, file_path):\n",
    "        print(f\"Saving document to {file_path}\")\n",
    "\n",
    "    def print_document(self, content):\n",
    "        print(f\"Printing document content: {content}\")\n",
    "\n",
    "    def review_document(self, content):\n",
    "        print(f\"Reviewing document content: {content}\")\n"
   ]
  },
  {
   "cell_type": "markdown",
   "metadata": {},
   "source": [
    "#### Código APLICANDO ISP\n",
    "\n",
    "La interfaz DocumentManager se divide en varias interfaces más pequeñas\n",
    "y especializadas. Cada cliente implementa solo las interfaces que necesita\n",
    "para su funcionamiento específico"
   ]
  },
  {
   "cell_type": "markdown",
   "metadata": {},
   "source": [
    "#### Justificación\n",
    "\n",
    "En el primer enfoque, los clientes que solo necesitan imprimir documentos\n",
    "aún dependen de la interfaz completa DocumentManager. Al separar la interfaz,\n",
    "los clientes solo implementan las interfaces que necesitan, lo cual es más\n",
    "eficiente y claro."
   ]
  },
  {
   "cell_type": "code",
   "execution_count": 18,
   "metadata": {},
   "outputs": [],
   "source": [
    "from abc import ABC, abstractmethod\n",
    "\n",
    "class DocumentOpener(ABC):\n",
    "    @abstractmethod\n",
    "    def open_document(self, file_path):\n",
    "        pass\n",
    "\n",
    "class DocumentSaver(ABC):\n",
    "    @abstractmethod\n",
    "    def save_document(self, content, file_path):\n",
    "        pass\n",
    "\n",
    "class DocumentPrinter(ABC):\n",
    "    @abstractmethod\n",
    "    def print_document(self, content):\n",
    "        pass\n",
    "\n",
    "class DocumentReviewer(ABC):\n",
    "    @abstractmethod\n",
    "    def review_document(self, content):\n",
    "        pass \n",
    "\n",
    "class MyPrinter(DocumentPrinter):\n",
    "    def print_document(self, content):\n",
    "        print(f\"Printing document content: {content}\")\n",
    "\n",
    "class MyReviewer(DocumentReviewer):\n",
    "    def review_document(self, content):\n",
    "        print(f\"Reviewing document content: {content}\")\n",
    "\n",
    "# Example use case where a client needs only printing and reviewing capabilities\n",
    "class PrintReviewStation(MyPrinter, MyReviewer):\n",
    "    pass\n"
   ]
  },
  {
   "cell_type": "markdown",
   "metadata": {},
   "source": [
    "### `D`ependency Inversion Principle (DIP)\n",
    "\n",
    "Sistema de logística para el manejo de envíos."
   ]
  },
  {
   "cell_type": "markdown",
   "metadata": {},
   "source": [
    "##### Código SIN aplicar DIP\n",
    "\n",
    "La clase ShippingManager depende directamente de clases concretas como\n",
    "Truck y Ship para manejar diferentes tipos de transporte. Esto crea un\n",
    "acoplamiento fuerte y reduce la flexibilidad del sistema"
   ]
  },
  {
   "cell_type": "code",
   "execution_count": 19,
   "metadata": {},
   "outputs": [
    {
     "name": "stdout",
     "output_type": "stream",
     "text": [
      "Delivering to 123 Elm St by road.\n",
      "Delivering to 456 Maple Ave by sea.\n"
     ]
    }
   ],
   "source": [
    "class Truck:\n",
    "    def deliver(self, destination):\n",
    "        print(f\"Delivering to {destination} by road.\")\n",
    "\n",
    "class Ship:\n",
    "    def deliver(self, destination):\n",
    "        print(f\"Delivering to {destination} by sea.\")\n",
    "\n",
    "class ShippingManager:\n",
    "    def __init__(self):\n",
    "        self.truck = Truck()\n",
    "        self.ship = Ship()\n",
    "\n",
    "    def send_delivery(self, type, destination):\n",
    "        if type == \"road\":\n",
    "            self.truck.deliver(destination)\n",
    "        elif type == \"sea\":\n",
    "            self.ship.deliver(destination)\n",
    "\n",
    "# Usage\n",
    "manager = ShippingManager()\n",
    "manager.send_delivery(\"road\", \"123 Elm St\")\n",
    "manager.send_delivery(\"sea\", \"456 Maple Ave\")\n"
   ]
  },
  {
   "cell_type": "markdown",
   "metadata": {},
   "source": [
    "##### Código APLICANDO DIP\n",
    "\n",
    "Creamos una interfaz TransportationMethod y hacemos que ShippingManager\n",
    "dependa de esta interfaz en lugar de clases concretas. Esto permite la\n",
    "adición de nuevos métodos de transporte sin modificar el ShippingManager"
   ]
  },
  {
   "cell_type": "code",
   "execution_count": 20,
   "metadata": {},
   "outputs": [
    {
     "name": "stdout",
     "output_type": "stream",
     "text": [
      "Delivering to 123 Elm St by road.\n",
      "Delivering to 456 Maple Ave by sea.\n",
      "Delivering to 789 Oak Blvd by air.\n"
     ]
    }
   ],
   "source": [
    "from abc import ABC, abstractmethod\n",
    "\n",
    "class TransportationMethod(ABC):\n",
    "    @abstractmethod\n",
    "    def deliver(self, destination):\n",
    "        pass\n",
    "\n",
    "class Truck(TransportationMethod):\n",
    "    def deliver(self, destination):\n",
    "        print(f\"Delivering to {destination} by road.\")\n",
    "\n",
    "class Ship(TransportationMethod):\n",
    "    def deliver(self, destination):\n",
    "        print(f\"Delivering to {destination} by sea.\")\n",
    "\n",
    "class Airplane(TransportationMethod):\n",
    "    def deliver(self, destination):\n",
    "        print(f\"Delivering to {destination} by air.\")\n",
    "\n",
    "class ShippingManager:\n",
    "    def __init__(self, transportation_methods):\n",
    "        self.transportation_methods = transportation_methods\n",
    "\n",
    "    def send_delivery(self, type, destination):\n",
    "        transport = self.transportation_methods.get(type)\n",
    "        if transport:\n",
    "            transport.deliver(destination)\n",
    "        else:\n",
    "            print(\"Transport method not supported.\")\n",
    "\n",
    "# Usage\n",
    "transports = {\"road\": Truck(), \"sea\": Ship(), \"air\": Airplane()}\n",
    "manager = ShippingManager(transports)\n",
    "manager.send_delivery(\"road\", \"123 Elm St\")\n",
    "manager.send_delivery(\"sea\", \"456 Maple Ave\")\n",
    "manager.send_delivery(\"air\", \"789 Oak Blvd\")\n"
   ]
  },
  {
   "cell_type": "markdown",
   "metadata": {},
   "source": [
    "##### Justificación\n",
    "\n",
    "Sin DIP, ShippingManager está fuertemente acoplado a medios de transporte\n",
    "específicos, lo que dificulta cambiar o añadir nuevos medios sin modificar\n",
    "el gestor de envíos. Al depender de una interfaz, ShippingManager se vuelve\n",
    "más flexible y fácil de extender, facilitando la integración de nuevos tipos\n",
    "de transporte sin impactar el código existente."
   ]
  }
 ],
 "metadata": {
  "kernelspec": {
   "display_name": "Python 3 (ipykernel)",
   "language": "python",
   "name": "python3"
  },
  "language_info": {
   "codemirror_mode": {
    "name": "ipython",
    "version": 3
   },
   "file_extension": ".py",
   "mimetype": "text/x-python",
   "name": "python",
   "nbconvert_exporter": "python",
   "pygments_lexer": "ipython3",
   "version": "3.10.12"
  }
 },
 "nbformat": 4,
 "nbformat_minor": 4
}
