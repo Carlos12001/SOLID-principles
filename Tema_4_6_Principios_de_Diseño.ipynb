{
 "cells": [
  {
   "cell_type": "markdown",
   "metadata": {
    "id": "IFBdBryV5QuS"
   },
   "source": [
    "<p style=\"text-align:center\">\n",
    "    <a href=\"https://www.tec.ac.cr/\" target=\"_blank\">\n",
    "    <img src=\"https://upload.wikimedia.org/wikipedia/commons/thumb/1/13/ITCR_LOGO.svg/1200px-ITCR_LOGO.svg.png\" width=\"200\" alt=\"UCenfotec Logo\"  />\n",
    "    </a>\n",
    "</p>\n",
    "\n",
    "\n",
    "# **CE-1105 Principios de Modelado en Ingeniería**\n",
    "# Los principios SOLID\n",
    "\n",
    "Prof. Marco Hernández V.\n",
    "2024"
   ]
  },
  {
   "cell_type": "markdown",
   "metadata": {
    "id": "8E1u5BxO9nol"
   },
   "source": [
    "Un algoritmo eficiente sienta las bases de una aplicación de software eficiente. Una vez que el algoritmo esté implementado, lo siguiente más importante en Ingeniería de Software sería garantizar que el software o la aplicación esté diseñado con las mejores prácticas de diseño y arquitectura. Muchos investigadores y expertos han definido varias mejores prácticas para el diseño eficiente de aplicaciones de software. Uno de los más populares son los principios de diseño populares con el acrónimo SOLID.\n",
    "\n",
    "\n",
    "Deseamos que nuestro código cumpla con ciertas caracteristicas que son necesarias para que dicho código persista en el tiempo y pueda afrontar los cambios técnicos que podrían presentarse.\n",
    "\n",
    "Algunos de estas caracteristicas son:\n",
    "- Mantenibilidad\n",
    "- Reusabilidad\n",
    "- Legibilidad\n",
    "- Extensibilidad"
   ]
  },
  {
   "cell_type": "markdown",
   "metadata": {
    "id": "A3Cw2_7vIrLC"
   },
   "source": [
    "\n",
    "Uno de los más importantes y populares Principios de Diseño fueron presentados por Robert C Martin (Tío Bob). El tío Bob ha introducido varios principios de diseño y, entre ellos, los más populares son los cinco principios acrónimos de Principios de diseño SOLID que se centran principalmente en el diseño de software orientado a objetos.\n",
    "\n",
    "Los principios SOLID facilitan el probar, dar mantenimiento y la legibilidad del código, así como un despliegue más ágil de software, mayor reusabilidad y escalabilidad del código y mejor depuración de errores."
   ]
  },
  {
   "cell_type": "markdown",
   "metadata": {
    "id": "4uBuDV11KIG6"
   },
   "source": [
    "**SOLID** es el acrónimo mnemónico que hace referencia a cada uno de los principios por sus siglas en inglés. Estas siglas son:\n",
    "\n",
    "*`S`ingle Responsibility Principle* **(SRP)** o Principio de Responsabilidad Única\n",
    "\n",
    "*`O`pen-Closed Principle* **(OCP)** o Principio de Abierto/Cerrado\n",
    "\n",
    "*`L`iskov Substitution Principle* **(LSP)** o Principio de Substitución de Liskov\n",
    "\n",
    "*`I`nterface Segregation Principle* **(ISP)** o Principio de Segregación de Interfaz\n",
    "\n",
    "*`D`ependency Inversion Principle* **(DIP)** o Principio de Inversión de Dependencias"
   ]
  },
  {
   "cell_type": "markdown",
   "metadata": {
    "id": "5tJGcXotiLg_"
   },
   "source": [
    "Estas mejores prácticas, cuando se consideran en el diseño de una aplicación de software orientada a objetos, tenderían a reducir la complejidad del código, reducirían el riesgo de roturas del código, mejorarían la comunicación entre diferentes entidades y harían que el código fuera más flexible, legible y manejable."
   ]
  },
  {
   "cell_type": "markdown",
   "metadata": {
    "id": "2NtybRTX-90-"
   },
   "source": [
    "# **Single Responsibility Principle (SRP)**\n",
    "\n",
    "---"
   ]
  },
  {
   "cell_type": "markdown",
   "metadata": {
    "id": "MObbcFJ2-_BB"
   },
   "source": [
    "El principio de responsabilidad única establece que una clase debe tener sólo una responsabilidad principal y no debe asumir otras responsabilidades.\n",
    "\n",
    "- Una clase debe tener **una y solamente una** razón para cambiar.\n",
    "- Una clase solamente tiene una responsabilidad\n",
    "- La clase tiene la seguridad de atender sus tareas sin depender de otras clases\n",
    "\n",
    "\n",
    "Robert C. Martin explica esto como \"Una clase debería tener sólo una razón para cambiar\"."
   ]
  },
  {
   "cell_type": "code",
   "execution_count": null,
   "metadata": {
    "id": "8k3Z3b9dBk6b"
   },
   "outputs": [],
   "source": [
    "class Auto():\n",
    "\tdef __init__(self):\n",
    "\t\tself.posicion = 0\n",
    "\t\tself.combustible = 100\n",
    "\n",
    "\tdef mover(self, distancia):\n",
    "\t\tif self.combustible >= distancia / 2:\n",
    "\t\t\tself.posicion += distancia\n",
    "\t\t\tself.combustible -= distancia / 2\n",
    "\t\telse:\n",
    "\t\t\tprint(\"No hay suficiente combustible\")\n",
    "\n",
    "\n",
    "\tdef agregar_combustible(self, cantidad):\n",
    "\t\tself.combustible += cantidad\n",
    "\n",
    "\tdef obtener_combustible(self):\n",
    "\t\treturn self.combustible"
   ]
  },
  {
   "cell_type": "code",
   "execution_count": null,
   "metadata": {
    "colab": {
     "base_uri": "https://localhost:8080/"
    },
    "id": "jC791VZiChM1",
    "outputId": "eefa1519-8a19-4604-9ff3-2ed998d2cc9e"
   },
   "outputs": [
    {
     "name": "stdout",
     "output_type": "stream",
     "text": [
      "87.5\n"
     ]
    }
   ],
   "source": [
    "miAuto = Auto()\n",
    "\n",
    "#Muevo el auto 25 kilometros (significa que se le disminuye 25/2 = 12.5 de combustible\n",
    "miAuto.mover(25)\n",
    "\n",
    "#Pregunto por cantidad de combustible.  100 - 12.5 = 87.5\n",
    "print(miAuto.obtener_combustible())"
   ]
  },
  {
   "cell_type": "code",
   "execution_count": null,
   "metadata": {
    "colab": {
     "base_uri": "https://localhost:8080/"
    },
    "id": "54Ge1f15H_YL",
    "outputId": "4ef57725-3d55-4344-e444-6c6ca7e99f70"
   },
   "outputs": [
    {
     "name": "stdout",
     "output_type": "stream",
     "text": [
      "No hay suficiente combustible\n"
     ]
    }
   ],
   "source": [
    "#Vamos a mover el auto a 200 km.  (200/2 = 100)\n",
    "#Necesita 100 de combustible, por tanto no se podrá mover el auto\n",
    "miAuto.mover(200)"
   ]
  },
  {
   "cell_type": "code",
   "execution_count": null,
   "metadata": {
    "colab": {
     "base_uri": "https://localhost:8080/"
    },
    "id": "-QLRm449ByQf",
    "outputId": "8b408b0b-a9f2-4b07-b31d-0fda801d78fe"
   },
   "outputs": [
    {
     "name": "stdout",
     "output_type": "stream",
     "text": [
      "287.5\n"
     ]
    }
   ],
   "source": [
    "#Mejor voy a cargar más combustible\n",
    "miAuto.agregar_combustible(200)\n",
    "\n",
    "#Pregunto por la cantidad de combustible nuevamente\n",
    "print(miAuto.obtener_combustible())\n"
   ]
  },
  {
   "cell_type": "code",
   "execution_count": null,
   "metadata": {
    "colab": {
     "base_uri": "https://localhost:8080/"
    },
    "id": "A67dcSy8Jiwa",
    "outputId": "81d0fc42-7be8-49dc-9a92-1e88af5477a8"
   },
   "outputs": [
    {
     "name": "stdout",
     "output_type": "stream",
     "text": [
      "187.5\n"
     ]
    }
   ],
   "source": [
    "#Ahora si puedo mover el auto\n",
    "miAuto.mover(200)\n",
    "\n",
    "#Pregunto cuanto combustible quedó 87.5 + 200 - (200/2) = 187.5\n",
    "print(miAuto.obtener_combustible())"
   ]
  },
  {
   "cell_type": "markdown",
   "metadata": {
    "id": "24pB899iEAQb"
   },
   "source": [
    "En esta clase se pueden observar dos funciones principales:\n",
    "- Mover el auto\n",
    "- Controlar y agregar combustible\n",
    "\n",
    "Para poder cumplir con el **Principio de Responsabilidad Única** tendremos que separar dichas funcionalidades de la clase. Por tanto, nuestro código de clases quedará de la siguiente manera:\n"
   ]
  },
  {
   "cell_type": "code",
   "execution_count": null,
   "metadata": {
    "id": "0T3yIHyxFkge"
   },
   "outputs": [],
   "source": [
    "\n",
    "class Auto():\n",
    "\tdef __init__(self, tanque):\n",
    "\t\tself.posicion = 0\n",
    "\t\tself.tanque = tanque\n",
    "\n",
    "\tdef mover(self, distancia):\n",
    "\t\tif self.tanque.obtener_combustible() >= distancia / 2:\n",
    "\t\t\tself.posicion += distancia\n",
    "\t\t\tself.tanque.usar_combustible(distancia / 2)\n",
    "\t\telse:\n",
    "\t\t\tprint(\"No hay suficiente combustible\")\n",
    "\n",
    "\n",
    "\n",
    "class TanqueDeCombustible:\n",
    "\tdef __init__(self):\n",
    "\t\tself.combustible = 100\n",
    "\n",
    "\tdef agregar_combustible(self, cantidad):\n",
    "\t\tself.combustible += cantidad\n",
    "\n",
    "\tdef obtener_combustible(self):\n",
    "\t\treturn self.combustible\n",
    "\n",
    "\tdef usar_combustible(self, cantidad):\n",
    "\t\tself.combustible -= cantidad"
   ]
  },
  {
   "cell_type": "code",
   "execution_count": null,
   "metadata": {
    "id": "_qJJq58sF7yj"
   },
   "outputs": [],
   "source": [
    "tanque = TanqueDeCombustible()\n",
    "miAuto = Auto(tanque)"
   ]
  },
  {
   "cell_type": "code",
   "execution_count": null,
   "metadata": {
    "colab": {
     "base_uri": "https://localhost:8080/"
    },
    "id": "_MZY5AvUMkXM",
    "outputId": "657dc583-00d6-4c40-9552-9353beeaa522"
   },
   "outputs": [
    {
     "name": "stdout",
     "output_type": "stream",
     "text": [
      "87.5\n"
     ]
    }
   ],
   "source": [
    "#Muevo el auto 25 kilometros (significa que se le disminuye 25/2 = 12.5 de combustible\n",
    "miAuto.mover(25)\n",
    "\n",
    "#Pregunto por cantidad de combustible.  100 - 12.5 = 87.5\n",
    "print(miAuto.tanque.obtener_combustible())"
   ]
  },
  {
   "cell_type": "code",
   "execution_count": null,
   "metadata": {
    "colab": {
     "base_uri": "https://localhost:8080/"
    },
    "id": "wzIf4u1CNkGW",
    "outputId": "bf9bcd52-0322-4765-f4af-f5ee7c96b3db"
   },
   "outputs": [
    {
     "name": "stdout",
     "output_type": "stream",
     "text": [
      "No hay suficiente combustible\n"
     ]
    }
   ],
   "source": [
    "#Vamos a mover el auto a 200 km.  (200/2 = 100)\n",
    "#Necesita 100 de combustible, por tanto no se podrá mover el auto\n",
    "miAuto.mover(200)"
   ]
  },
  {
   "cell_type": "code",
   "execution_count": null,
   "metadata": {
    "colab": {
     "base_uri": "https://localhost:8080/"
    },
    "id": "tcEHIrTrNprf",
    "outputId": "940ce81c-0b00-4ade-94d6-5dd16a0556de"
   },
   "outputs": [
    {
     "name": "stdout",
     "output_type": "stream",
     "text": [
      "487.5\n"
     ]
    }
   ],
   "source": [
    "#Mejor voy a cargar más combustible\n",
    "miAuto.tanque.agregar_combustible(200)\n",
    "\n",
    "#Pregunto por la cantidad de combustible nuevamente\n",
    "print(miAuto.tanque.obtener_combustible())\n"
   ]
  },
  {
   "cell_type": "code",
   "execution_count": null,
   "metadata": {
    "colab": {
     "base_uri": "https://localhost:8080/"
    },
    "id": "GRWQHSZfN0ZQ",
    "outputId": "ccb1c571-9de4-4d73-e1d2-fe00dfe105e1"
   },
   "outputs": [
    {
     "name": "stdout",
     "output_type": "stream",
     "text": [
      "387.5\n"
     ]
    }
   ],
   "source": [
    "#Ahora si puedo mover el auto\n",
    "miAuto.mover(200)\n",
    "\n",
    "#Pregunto cuanto combustible quedó 87.5 + 200 - (200/2) = 187.5\n",
    "print(miAuto.tanque.obtener_combustible())"
   ]
  },
  {
   "cell_type": "markdown",
   "metadata": {
    "id": "UllBrBEOOZ53"
   },
   "source": [
    "De esta manera, se tienen dos clases, una para mover el auto y otra encargada o responsable del combustible.\n",
    "\n",
    "Este modelo nos permite que las clases cumplan con las caracteristicas antes explicadas:\n",
    "- Mantenibilidad\n",
    "- Reusabilidad\n",
    "- Legibilidad\n",
    "- Extensibilidad"
   ]
  },
  {
   "cell_type": "markdown",
   "metadata": {
    "id": "qLYefVu4PCMr"
   },
   "source": [
    "**Otro Ejemplo**\n",
    "\n",
    "*   Recordemos que el Principio de Responsabilidad Única indica que una clase debería ser responsable de una única funcionalidad.\n",
    "*   En otras palabras, la clase solo debería tener una única razón para cambiar.\n",
    "\n",
    " En el siguiente ejemplo sencillo se define una clase \"pato\" con 5 diferentes métodos."
   ]
  },
  {
   "cell_type": "code",
   "execution_count": null,
   "metadata": {
    "id": "F1ooU0uZQryw"
   },
   "outputs": [],
   "source": [
    "class Pato:\n",
    "  def __init__(self, nombre):\n",
    "    self.nombre = nombre\n",
    "\n",
    "  def volar(self):\n",
    "    print(f\"{self.nombre} no vuela muy alto\")\n",
    "\n",
    "  def nadar(self):\n",
    "    print(f\"{self.nombre} nada en el lago y grazna\")\n",
    "\n",
    "  def hacer_sonido(self) -> str:\n",
    "    return \"Cuac\"\n",
    "\n",
    "  def saludar(self, pato2 ):\n",
    "    print(f\"{self.nombre}: {self.hacer_sonido()}, Hola {pato2.nombre}\")"
   ]
  },
  {
   "cell_type": "code",
   "execution_count": null,
   "metadata": {
    "colab": {
     "base_uri": "https://localhost:8080/"
    },
    "id": "j8kK1S2CejFS",
    "outputId": "37403504-b71b-4e91-81ec-c59677855417"
   },
   "outputs": [
    {
     "name": "stdout",
     "output_type": "stream",
     "text": [
      "Paco: Cuac, Hola Lola\n"
     ]
    }
   ],
   "source": [
    "pato1 = Pato(\"Paco\")\n",
    "pato2 = Pato(\"Lola\")\n",
    "pato1.saludar(pato2)"
   ]
  },
  {
   "cell_type": "code",
   "execution_count": null,
   "metadata": {
    "colab": {
     "base_uri": "https://localhost:8080/"
    },
    "id": "n7D3AnjNemz1",
    "outputId": "05641013-c0a6-4dd0-8dfb-cec737930018"
   },
   "outputs": [
    {
     "name": "stdout",
     "output_type": "stream",
     "text": [
      "Lola: Cuac, Hola Paco\n"
     ]
    }
   ],
   "source": [
    "pato2.saludar(pato1)"
   ]
  },
  {
   "cell_type": "markdown",
   "metadata": {
    "id": "9TXZeYzWeuMn"
   },
   "source": [
    "La funcionalidad principal de esta clase es definir un pato.  Si hay que cambiar esta definición, se cambiará esta clase.\n",
    "\n",
    "El problema yace en el método saludar(), que se encarga de poder hablar con otros patos.\n",
    "- Si se quisiera cambiar la funcionalidad de la conversación entre patos, se estaría cambiando también la clase Pato, es decir, habría una razón adicional para cambiar la clase.\n",
    "- Las consecuencias de no respetar este principio pueden ser varias, como dificultar la depuración de errores, ya que varios errores apuntan al mismo sitio y las funcionalidades están más acopladas.\n"
   ]
  },
  {
   "cell_type": "markdown",
   "metadata": {
    "id": "34fg9Gmte37t"
   },
   "source": [
    "![Imagen 1.png](data:image/png;base64,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)"
   ]
  },
  {
   "cell_type": "markdown",
   "metadata": {
    "id": "JExbKtSFfACl"
   },
   "source": [
    "Para resolver este problema en el caso del ejemplo, se define una nueva clase Communicador que se encarga de toda la funcionalidad de comunicación.\n",
    "Esta nueva clase permite entablar una conversación entre dos patos, donde estos se saludan. De esta manera, se ha cambiado el funcionamiento de la comunicación sin que la clase Duck se haya visto afectada."
   ]
  },
  {
   "cell_type": "code",
   "execution_count": null,
   "metadata": {
    "id": "olZ9TtxKffKG"
   },
   "outputs": [],
   "source": [
    "class Pato:\n",
    "\n",
    "    def __init__(self, nombre):\n",
    "        self.nombre = nombre\n",
    "\n",
    "    def volar(self):\n",
    "        print(f\"{self.nombre} no vuela muy alto\")\n",
    "\n",
    "    def swim(self):\n",
    "        print(f\"{self.nombre} nada en el lago y grazna\")\n",
    "\n",
    "    def hacer_sonido(self) -> str:\n",
    "        return \"Cuac\"\n",
    "\n",
    "class Comunicador:\n",
    "\n",
    "    def __init__(self, canal):\n",
    "        self.canal = canal\n",
    "\n",
    "    def comunicar(self, pato1 : Pato, pato2: Pato):\n",
    "        oracion1 = f\"{pato1.nombre}: {pato1.hacer_sonido()}, hola {pato2.nombre}\"\n",
    "        oracion2 = f\"{pato2.nombre}: {pato2.hacer_sonido()}, hola {pato1.nombre}\"\n",
    "        conversacion = [oracion1, oracion2]\n",
    "        print(*conversacion,\n",
    "              f\"(via {self.canal})\",\n",
    "              sep = '\\n')"
   ]
  },
  {
   "cell_type": "code",
   "execution_count": null,
   "metadata": {
    "colab": {
     "base_uri": "https://localhost:8080/",
     "height": 35
    },
    "id": "0JRFJvrvfmdF",
    "outputId": "dda7c6bc-d5e6-4d5e-801b-4adc8d14deaf"
   },
   "outputs": [
    {
     "data": {
      "application/vnd.google.colaboratory.intrinsic+json": {
       "type": "string"
      },
      "text/plain": [
       "'Cuac'"
      ]
     },
     "execution_count": 17,
     "metadata": {},
     "output_type": "execute_result"
    }
   ],
   "source": [
    "pato1 = Pato(\"Paco\")\n",
    "pato2 = Pato(\"Lola\")\n",
    "pato1.hacer_sonido()\n",
    "pato2.hacer_sonido()"
   ]
  },
  {
   "cell_type": "code",
   "execution_count": null,
   "metadata": {
    "id": "AUfK6zJsfyVX"
   },
   "outputs": [],
   "source": [
    "charla = Comunicador(\"amigos\")"
   ]
  },
  {
   "cell_type": "code",
   "execution_count": null,
   "metadata": {
    "colab": {
     "base_uri": "https://localhost:8080/"
    },
    "id": "JKFQ1CTbf1Wr",
    "outputId": "bfd42255-6fce-4a3c-8a1b-928cc8aeff75"
   },
   "outputs": [
    {
     "name": "stdout",
     "output_type": "stream",
     "text": [
      "Paco: Cuac, hola Lola\n",
      "Lola: Cuac, hola Paco\n",
      "(via amigos)\n"
     ]
    }
   ],
   "source": [
    "charla.comunicar(pato1, pato2)"
   ]
  },
  {
   "cell_type": "markdown",
   "metadata": {
    "id": "PQXeBoRIf6RB"
   },
   "source": [
    "![image.png](data:image/png;base64,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)"
   ]
  },
  {
   "cell_type": "markdown",
   "metadata": {
    "id": "3RaeG6AMf-9J"
   },
   "source": [
    "Lo que nos pide este principio es que cada clase debe tener **una unica responsabilidad**, por lo que si estamos programando una clase que se ocupa de diferentes cosas es conveniente partirla en 2 o más clases.\n",
    "Con esto se consigue mayor mantenibilidad y se clarifica el código, haciéndolo más mantenible.\n",
    "\n",
    "Muchas veces estamos tentados de programar demasiadas cosas en una misma clase, pero esto aumenta el acoplamiento de dos funcionalidades que pueden cambiar por razones diferentes o en momentos distintos."
   ]
  },
  {
   "cell_type": "markdown",
   "metadata": {
    "id": "GRk74zR2keU7"
   },
   "source": [
    "**Ejemplo Final**\n",
    "\n",
    "\n",
    "Tomemos el ejemplo de una aplicación de Directorio telefónico.\n",
    "\n",
    "Estamos diseñando un directorio telefónico que contiene una clase de directorio telefónico que se supone que se encarga de la responsabilidad principal de mantener las entradas del directorio telefónico.\n",
    "\n",
    "Por lo tanto, las operaciones que se espera que realice esta clase son agregar una nueva entrada (Nombre y Número de teléfono), eliminar una entrada existente, cambiar un Número de teléfono asignado a un Nombre de entidad y proporcionar una búsqueda que devuelva el Número de teléfono asignado a una Nombre de entidad particular.\n",
    "\n",
    "Nuestra clase DirectorioTeléfono podría tener el siguiente aspecto:"
   ]
  },
  {
   "cell_type": "code",
   "execution_count": null,
   "metadata": {
    "id": "p9tO-lFqmUdt"
   },
   "outputs": [],
   "source": [
    "class DirectorioTelefonico:\n",
    "  def __init__(self):\n",
    "    self.directorio = {}\n",
    "\n",
    "  def agregar_entrada(self, nombre, numero):\n",
    "    self.directorio[nombre] = numero\n",
    "\n",
    "  def eliminar_entrada(self, nombre):\n",
    "    self.directorio.pop(nombre)\n",
    "\n",
    "  def actualizar_entrada(self, nombre, numero):\n",
    "    self.directorio[nombre] = numero\n",
    "\n",
    "  def buscar_entrada(self, nombre):\n",
    "    return self.directorio[nombre]\n",
    "\n",
    "  def __str__(self):\n",
    "    impresión = \"\"\n",
    "    for key, value in self.directorio.items():\n",
    "      impresión += f'{key} : {value} \\n'\n",
    "    return impresión\n"
   ]
  },
  {
   "cell_type": "code",
   "execution_count": null,
   "metadata": {
    "colab": {
     "base_uri": "https://localhost:8080/"
    },
    "id": "A3AgYMdeqCNw",
    "outputId": "10a7f506-ecd8-43db-83d8-e804857aa23d"
   },
   "outputs": [
    {
     "name": "stdout",
     "output_type": "stream",
     "text": [
      "Marco : 12345678 \n",
      "Vivian : 67890123 \n",
      "\n"
     ]
    }
   ],
   "source": [
    "miDirectorioTelefonico = DirectorioTelefonico()\n",
    "miDirectorioTelefonico.agregar_entrada(\"Marco\", 12345678)\n",
    "miDirectorioTelefonico.agregar_entrada(\"Vivian\", 67890123)\n",
    "print(miDirectorioTelefonico)\n"
   ]
  },
  {
   "cell_type": "code",
   "execution_count": null,
   "metadata": {
    "colab": {
     "base_uri": "https://localhost:8080/"
    },
    "id": "fur-L-n8rF2H",
    "outputId": "04842219-dcda-4f6d-ad57-263242b07c3b"
   },
   "outputs": [
    {
     "name": "stdout",
     "output_type": "stream",
     "text": [
      "77777777\n",
      "Vivian : 77777777 \n",
      "Marco : 33333333 \n",
      "\n"
     ]
    }
   ],
   "source": [
    "miDirectorioTelefonico.eliminar_entrada(\"Marco\")\n",
    "miDirectorioTelefonico.agregar_entrada(\"Marco\", 33333333)\n",
    "miDirectorioTelefonico.actualizar_entrada(\"Vivian\", 77777777)\n",
    "\n",
    "print(miDirectorioTelefonico.buscar_entrada(\"Vivian\"))\n",
    "\n",
    "print(miDirectorioTelefonico)"
   ]
  },
  {
   "cell_type": "markdown",
   "metadata": {
    "id": "FRAk0bdVrqOX"
   },
   "source": [
    "Hasta ahora, nuestra clase DirectorioTeléfonico luce bien y ha implementado exactamente las características esperadas.\n",
    "\n",
    "Ahora digamos que hay dos requisitos más en el proyecto:\n",
    "- conservar el contenido del directorio telefónico en una base de datos y\n",
    "- transferir el contenido del directorio telefónico a un archivo.\n",
    "\n",
    "Entonces, podemos agregar dos métodos más a la clase DirectorioTelefonico como se muestra a continuación:"
   ]
  },
  {
   "cell_type": "code",
   "execution_count": null,
   "metadata": {
    "id": "y8UPVC2_sVim"
   },
   "outputs": [],
   "source": [
    "class DirectorioTelefonico:\n",
    "  def __init__(self):\n",
    "    self.directorio = {}\n",
    "\n",
    "  def agregar_entrada(self, nombre, numero):\n",
    "    self.directorio[nombre] = numero\n",
    "\n",
    "  def eliminar_entrada(self, nombre):\n",
    "    self.directorio.pop(nombre)\n",
    "\n",
    "  def actualizar_entrada(self, nombre, numero):\n",
    "    self.directorio[nombre] = numero\n",
    "\n",
    "  def buscar_entrada(self, nombre):\n",
    "    return self.directorio[nombre]\n",
    "\n",
    "  def guardar_archivo(self, nombreArchivo, localizacion):\n",
    "    #codigo para guardar datos a un archivo\n",
    "    pass\n",
    "\n",
    "  def persistencia_BaseDeDatos(self, detalles):\n",
    "    #codigo para persistir el contenido hacia la base de datos\n",
    "    pass\n",
    "\n",
    "\n",
    "  def __str__(self):\n",
    "    impresión = \"\"\n",
    "    for key, value in self.directorio.items():\n",
    "      impresión += f'{key} : {value} \\n'\n",
    "    return impresión\n"
   ]
  },
  {
   "cell_type": "markdown",
   "metadata": {
    "id": "GmnsWTDmtKnf"
   },
   "source": [
    "Ahora bien, aquí es donde rompimos el principio de diseño de responsabilidad única. Al agregar las funcionalidades de persistir en la base de datos y guardar en un archivo, le asignamos responsabilidades adicionales a la clase DirectorioTelefonico que no son su responsabilidad principal.\n",
    "\n",
    "Esta clase ahora tiene características adicionales que pueden hacer que cambie. En el futuro, si existen requisitos relacionados con la conservación de los datos, estos pueden provocar cambios en la clase DirectorioTelefonico. Por lo tanto, DirectorioTelefonico es propenso a cambios por motivos que no son su responsabilidad principal.\n",
    "\n",
    "El principio de responsabilidad única nos pide que no agreguemos responsabilidades adicionales a una clase para que no tengamos que modificar una clase a menos que haya un cambio en su responsabilidad principal.\n",
    "\n",
    "Podemos manejar la situación actual al tener clases separadas que manejarían la persistencia de la base de datos y el almacenamiento en un archivo.\n",
    "\n",
    "Podemos pasar el objeto DirectorioTelefonico a los objetos de esas clases y escribir cualquier característica adicional en esas clases.\n",
    "\n",
    "Esto garantizaría que la clase DirectorioTelefonico tenga solo una razón para cambiar, es decir, cualquier cambio en su responsabilidad principal."
   ]
  },
  {
   "cell_type": "code",
   "execution_count": null,
   "metadata": {
    "id": "gCqrwVQ4ttzg"
   },
   "outputs": [],
   "source": [
    "#codigo para guardar datos a un archivo\n",
    "class guardar_archivo:\n",
    "  def __init__(self, objeto_guardar):\n",
    "    pass\n",
    "\n",
    "class persistencia_BaseDeDatos:\n",
    "  #codigo para persistir el contenido hacia la base de datos\n",
    "  def __init__(self,objeto_persistencia):\n",
    "    pass\n"
   ]
  },
  {
   "cell_type": "markdown",
   "metadata": {
    "id": "2YgL8VHKSaNK"
   },
   "source": [
    "# **Open-Closed Principle (OCP)**\n",
    "\n",
    "---"
   ]
  },
  {
   "cell_type": "markdown",
   "metadata": {
    "id": "obD_E--0SiYb"
   },
   "source": [
    "El Principio de Abierto/Cerrado indica que las clases deberían estar abiertas para su extensión, pero cerradas para su modificación. En otros términos, el código debería estar escrito de tal manera que, a la hora de añadir nuevas funcionalidades, no se deba modificar el código escrito previamente, que pueda estar siendo utilizado por otros usuarios.\n",
    "\n",
    "- Los elementos de software tienen que estar abiertos para la extensión pero cerradas para la modificación.\n",
    "\n",
    "- Deberiamos poder agregar nuevas funcionalidades sin la necesidad de cambiar el código fuente de la clase.\n",
    "\n"
   ]
  },
  {
   "cell_type": "markdown",
   "metadata": {
    "id": "bFPVBGJmvb_L"
   },
   "source": [
    "El principio abierto y cerrado fue conceptualizado por primera vez por Berterd Meyer en 1988. Robert C. Martin lo mencionó como \"el principio más importante del diseño orientado a objetos\".\n",
    "\n",
    "Seguir este principio garantiza que una clase esté bien definida para hacer lo que se supone que debe hacer. Se pueden agregar más características creando nuevas entidades que extiendan las características de la clase existente y agreguen más características a sí misma. Previniendo así cambios frecuentes y triviales en una clase de bajo nivel bien establecida."
   ]
  },
  {
   "cell_type": "markdown",
   "metadata": {
    "id": "XTsg1BmAXRac"
   },
   "source": [
    "Para entender este principio, se creará una clase de Notificador que permitirá \"notificar\" utilizando varios medios, pero he ahí el problema si no se sigue un adecuado principio de diseño.\n"
   ]
  },
  {
   "cell_type": "code",
   "execution_count": null,
   "metadata": {
    "id": "TldfR_XmYqnv"
   },
   "outputs": [],
   "source": [
    "class Notificador:\n",
    "\tdef __init__(self, usuario, mensaje):\n",
    "\t\tself.usuario = usuario\n",
    "\t\tself.mensaje = mensaje\n",
    "\n",
    "\tdef notificar(self):\n",
    "\t\traise NotImplementedError\n"
   ]
  },
  {
   "cell_type": "code",
   "execution_count": null,
   "metadata": {
    "id": "NUMkfYQ-Yxs6"
   },
   "outputs": [],
   "source": [
    "miNotificador = Notificador(\"Marco\", \"Quedas notificado\")\n"
   ]
  },
  {
   "cell_type": "markdown",
   "metadata": {
    "id": "qAb16BRXZS5W"
   },
   "source": [
    "Sin en el método \"notificar\" se implementa el código necesario para notificar por medio de:\n",
    "- correo electrónico\n",
    "- WhatsApp\n",
    "- Telegram\n",
    "- SMS\n",
    "\n",
    "entonces, para cada nuevo medio (extensibilidad) se tendría que modificar el código existente, lo cual va en contra de este principio.    Lo que se desea es permitir la extensibilidad sin alterar lo que funciona.\n",
    "\n",
    "En este caso especifico, utilizaremos herencia para promocionar la extensibilidad sin alterar lo existente.\n"
   ]
  },
  {
   "cell_type": "code",
   "execution_count": null,
   "metadata": {
    "id": "u9fN57WXbYoA"
   },
   "outputs": [],
   "source": [
    "class Notificador:\n",
    "\tdef __init__(self, usuario, mensaje):\n",
    "\t\tself.usuario = usuario\n",
    "\t\tself.mensaje = mensaje\n",
    "\n",
    "\n",
    "class NotificadorEmail(Notificador):\n",
    "\tdef Notificar(self):\n",
    "\t\tprint(f\"Enviando mensaje por MAIL a {self.usuario.mail}\")\n",
    "\n",
    "\n",
    "class NotificadorSMS(Notificador):\n",
    "\tdef Notificar(self):\n",
    "\t\tprint(f\"Enviando mensaje por SMS a {self.usuario.SMS}\")\n",
    "\n",
    "\n",
    "class NotificadorTelegram(Notificador):\n",
    "\tdef Notificar(self):\n",
    "\t\tprint(f\"Enviando mensaje por Telegram a {self.usuario.Telegram}\")\n"
   ]
  },
  {
   "cell_type": "markdown",
   "metadata": {
    "id": "4laJvcGMfKKH"
   },
   "source": [
    "De esta manera tenemos un código más limpio y totalmente escalable."
   ]
  },
  {
   "cell_type": "markdown",
   "metadata": {
    "id": "bvKUCoHNjAHd"
   },
   "source": [
    "**Otro Ejemplo**\n",
    "\n",
    "\n",
    "Volvemos al segundo ejemplo del anterior principio.  En ese ejemplo, no se puede extender la funcionalidad de Communicador para añadir diferentes tipos de conversaciones sin modificar el método communicador().\n",
    "\n",
    "Para cumplir con el segundo principio, se crea una clase ConversacionAbstracta que se encargará de definir diferentes tipos de conversaciones en sus subclases con implementaciones de hacer_conversacion(). De esta manera, el método communicar() de Communicador solo se regirá a llevar a cabo la comunicación a través de una canal y nunca se requerirá de su modificación (es un método final)."
   ]
  },
  {
   "cell_type": "code",
   "execution_count": null,
   "metadata": {
    "id": "odUsT_VLlDXV"
   },
   "outputs": [],
   "source": [
    "from typing import final\n",
    "\n",
    "class ConversacionAbstracta:\n",
    "\n",
    "    def hacer_conversacion(self) -> list:\n",
    "        pass\n",
    "\n",
    "class SimpleConversacion(ConversacionAbstracta):\n",
    "\n",
    "    def __init__(self, pato1: Pato, pato2: Pato):\n",
    "        self.pato1 = pato1\n",
    "        self.pato2 = pato2\n",
    "\n",
    "    def hacer_conversacion(self) -> list:\n",
    "        oracion1 = f\"{self.pato1.nombre}: {self.pato1.hacer_sonido()}, hola {self.pato2.nombre}\"\n",
    "        oracion2 = f\"{self.pato2.nombre}: {self.pato2.hacer_sonido()}, hola {self.pato1.nombre}\"\n",
    "        return [oracion1, oracion2]\n",
    "\n",
    "class Communicador:\n",
    "\n",
    "    def __init__(self, canal):\n",
    "        self.canal = canal\n",
    "\n",
    "    @final\n",
    "    def comunicar(self, conversacion: ConversacionAbstracta):\n",
    "        print(*conversacion.hacer_conversacion(),\n",
    "              f\"(via {self.canal})\",\n",
    "              sep = '\\n')"
   ]
  },
  {
   "cell_type": "markdown",
   "metadata": {
    "id": "pW07Vw18lJej"
   },
   "source": [
    "![image.png](data:image/png;base64,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)"
   ]
  },
  {
   "cell_type": "code",
   "execution_count": null,
   "metadata": {
    "id": "UoV7TyzilN31"
   },
   "outputs": [],
   "source": [
    "charla = Comunicador(\"amigos\")"
   ]
  },
  {
   "cell_type": "code",
   "execution_count": null,
   "metadata": {
    "colab": {
     "base_uri": "https://localhost:8080/"
    },
    "id": "fA282iL9lRdj",
    "outputId": "4b4e6869-2745-4aa9-9f9c-23a0f8b27bb0"
   },
   "outputs": [
    {
     "name": "stdout",
     "output_type": "stream",
     "text": [
      "Paco: Cuac, hola Lola\n",
      "Lola: Cuac, hola Paco\n",
      "(via amigos)\n"
     ]
    }
   ],
   "source": [
    "charla.comunicar(pato1, pato2)"
   ]
  },
  {
   "cell_type": "markdown",
   "metadata": {
    "id": "8PgL0CdOv1Ea"
   },
   "source": [
    "**Ejemplo Final**\n",
    "\n",
    "\n",
    "Digamos que tenemos una aplicación para una tienda de ropa. Entre las diversas funciones del sistema, también hay una función para aplicar descuentos seleccionados según el tipo de prenda.\n",
    "\n",
    "El siguiente ejemplo muestra una forma de implementar este requerimiento.\n",
    "\n",
    "Tenemos una clase CalculadoraDescuento que tiene una propiedad para contener el tipo de prenda. Tiene una función que calcula el descuento según el tipo de prenda y devuelve el nuevo costo luego de deducir el monto del descuento."
   ]
  },
  {
   "cell_type": "code",
   "execution_count": null,
   "metadata": {
    "id": "7LYdfgFHwW8p"
   },
   "outputs": [],
   "source": [
    "from enum import Enum\n",
    "\n",
    "class Productos(Enum):\n",
    "  camisa = 1\n",
    "  enagua = 2\n",
    "  pantalon = 3\n",
    "\n",
    "class CalculadoraDescuento():\n",
    "  def __init__(self, tipo_producto, costo):\n",
    "    self.tipo_producto = tipo_producto\n",
    "    self.costo = costo\n",
    "\n",
    "  def obtiene_precio_descuento(self):\n",
    "    if self.tipo_producto == Productos.camisa:\n",
    "      return self.costo - (self.costo * 0.10)\n",
    "    elif self.tipo_producto == Productos.enagua:\n",
    "      return self.costo - (self.costo * 0.15)\n",
    "    elif self.tipo_producto == Productos.pantalon:\n",
    "      return self.costo - (self.costo * 0.25)\n"
   ]
  },
  {
   "cell_type": "code",
   "execution_count": null,
   "metadata": {
    "colab": {
     "base_uri": "https://localhost:8080/"
    },
    "id": "1RbkhGIpycBR",
    "outputId": "b61ef066-b090-4263-b617-af6eb65fbde1"
   },
   "outputs": [
    {
     "name": "stdout",
     "output_type": "stream",
     "text": [
      "90.0\n",
      "85.0\n",
      "75.0\n"
     ]
    }
   ],
   "source": [
    "dc_camisa = CalculadoraDescuento(Productos.camisa, 100)\n",
    "print(dc_camisa.obtiene_precio_descuento())\n",
    "\n",
    "dc_enagua = CalculadoraDescuento(Productos.enagua, 100)\n",
    "print(dc_enagua.obtiene_precio_descuento())\n",
    "\n",
    "dc_pantalon = CalculadoraDescuento(Productos.pantalon, 100)\n",
    "print(dc_pantalon.obtiene_precio_descuento())\n"
   ]
  },
  {
   "cell_type": "markdown",
   "metadata": {
    "id": "P577XTF-yzTz"
   },
   "source": [
    "Este diseño viola el principio Abierto-Cerrado porque esta clase necesitará modificaciones si\n",
    "  a). Se incluirá un nuevo tipo de vestimenta y\n",
    "  b). Si el monto del descuento para cualquier prenda cambia.\n",
    "\n",
    "Esta característica se puede implementar de manera eficiente como se muestra a continuación."
   ]
  },
  {
   "cell_type": "code",
   "execution_count": null,
   "metadata": {
    "id": "Nti2t2sSzSSk"
   },
   "outputs": [],
   "source": [
    "from enum import Enum\n",
    "from abc import ABCMeta, abstractmethod\n",
    "\n",
    "class CalculadoraDescuento():\n",
    "\n",
    "  @abstractmethod\n",
    "  def obtiene_precio_descuento(self):\n",
    "    pass\n",
    "\n",
    "class CalculadoraDescuentoCamisa(CalculadoraDescuento):\n",
    "  def __init__(self, costo):\n",
    "    self.costo = costo\n",
    "\n",
    "  def obtiene_precio_descuento(self):\n",
    "    return self.costo - (self.costo * 0.10)\n",
    "\n",
    "class CalculadoraDescuentoEnagua(CalculadoraDescuento):\n",
    "  def __init__(self, costo):\n",
    "    self.costo = costo\n",
    "\n",
    "  def obtiene_precio_descuento(self):\n",
    "    return self.costo - (self.costo * 0.15)\n",
    "\n",
    "\n",
    "class CalculadoraDescuentoPantalon(CalculadoraDescuento):\n",
    "  def __init__(self, costo):\n",
    "    self.costo = costo\n",
    "\n",
    "  def obtiene_precio_descuento(self):\n",
    "    return self.costo - (self.costo * 0.25)\n"
   ]
  },
  {
   "cell_type": "code",
   "execution_count": null,
   "metadata": {
    "colab": {
     "base_uri": "https://localhost:8080/"
    },
    "id": "ewIzUsXs02Mq",
    "outputId": "d7bd81ed-3114-4041-8c8e-89596e3c8370"
   },
   "outputs": [
    {
     "name": "stdout",
     "output_type": "stream",
     "text": [
      "90.0\n",
      "85.0\n",
      "75.0\n"
     ]
    }
   ],
   "source": [
    "dc_camisa = CalculadoraDescuentoCamisa(100)\n",
    "print(dc_camisa.obtiene_precio_descuento())\n",
    "\n",
    "dc_enagua = CalculadoraDescuentoEnagua(100)\n",
    "print(dc_enagua.obtiene_precio_descuento())\n",
    "\n",
    "dc_pantalon = CalculadoraDescuentoPantalon(100)\n",
    "print(dc_pantalon.obtiene_precio_descuento())"
   ]
  },
  {
   "cell_type": "markdown",
   "metadata": {
    "id": "pESqjpkr1VG_"
   },
   "source": [
    "Como se muestra en el ejemplo anterior, ahora tenemos una clase base CalculadoraDescuento muy simple que tiene un único método abstracto obtiene_precio_descuento.\n",
    "\n",
    "Hemos creado nuevas clases para prendas de vestir que amplían la clase básica CalculadoraDescuento. Por lo tanto, ahora cada subclase necesitaría implementar la parte de descuento en sí misma. Al hacer esto, ahora hemos eliminado las restricciones anteriores que requerían modificaciones en la clase base.\n",
    "\n",
    "Ahora, sin modificar la clase base, podemos agregar más prendas y cambiar el monto del descuento de prendas individuales según sea necesario."
   ]
  },
  {
   "cell_type": "markdown",
   "metadata": {
    "id": "kXkqa-nOfN4n"
   },
   "source": [
    "# **Liskov Substitution Principle (LSP)**\n",
    "\n",
    "---"
   ]
  },
  {
   "cell_type": "markdown",
   "metadata": {
    "id": "I57SVxg18LOj"
   },
   "source": [
    "El principio de sustitución de Liskov fue introducido por Barbara Liskov a través de una relación de subtipificación llamada Subtipificación de comportamiento fuerte.\n",
    "\n",
    "Este principio establece que si una clase Sub es un subtipo de una clase Sup, entonces en el programa, los objetos de tipo Sup deben sustituirse fácilmente por objetos de tipo Sub sin necesidad de cambiar el programa.\n",
    "\n",
    "El Principio de Substitución de Liskov establece que las clases deberían ser sustituibles por instancias de sus subclases.\n",
    "\n",
    "Esto significa, que una clase que hereda de otra, debería poder hacer todo lo que la clase de quién hereda hace.\n"
   ]
  },
  {
   "cell_type": "code",
   "execution_count": null,
   "metadata": {
    "colab": {
     "base_uri": "https://localhost:8080/"
    },
    "id": "ugASGoas_jLL",
    "outputId": "c278c0eb-abfa-4eea-8c4a-1ede614fb1ba"
   },
   "outputs": [
    {
     "name": "stdout",
     "output_type": "stream",
     "text": [
      "No puedo volar\n"
     ]
    }
   ],
   "source": [
    "class Ave:\n",
    "\tdef volar(self):\n",
    "\t\tprint (\"Estoy volando\")\n",
    "\t\treturn\n",
    "\n",
    "class Pinguino(Ave):\n",
    "\tdef volar(self):\n",
    "\t\tprint(\"No puedo volar\")\n",
    "\t\treturn\n",
    "\n",
    "def hacer_volar(ave = Ave):\n",
    "\treturn ave.volar()\n",
    "\n",
    "\n",
    "hacer_volar(Pinguino())"
   ]
  },
  {
   "cell_type": "markdown",
   "metadata": {
    "id": "x76xFM-qBHOm"
   },
   "source": [
    "Acá hay un problema, pues un Pinguino es una Ave pero no puede volar, por tanto, una subclase no puede realizar todo lo que la clase hace.   \n",
    "\n",
    "Para corregir esto, podemos reestructurar nuestro código de la siguiente manera:\n"
   ]
  },
  {
   "cell_type": "code",
   "execution_count": null,
   "metadata": {
    "id": "8el2GWTvDLaT"
   },
   "outputs": [],
   "source": [
    "class Ave:\n",
    "\tpass\n",
    "\n",
    "class AveVoladora(Ave):\n",
    "  def volar(self):\n",
    "   print(\"Estoy volando\")\n",
    "   return\n",
    "\n",
    "class AveNoVoladora(Ave):\n",
    "  pass\n",
    "\n"
   ]
  },
  {
   "cell_type": "markdown",
   "metadata": {
    "id": "D8aJ6tOFDX-2"
   },
   "source": [
    "De esta manera, todas las subclases pueden hacer lo que su clase superior puede hacer."
   ]
  },
  {
   "cell_type": "markdown",
   "metadata": {
    "id": "j9-6j6xMSMO5"
   },
   "source": [
    "**Otro Ejemplo**\n",
    "\n",
    "Digamos que tenemos una clase base Auto que indicaría cuál es el tipo de automóvil. La clase Auto es heredada por la subclase AutoGasolina. De manera similar, la clase base Auto puede ser heredada por otras clases que pueden ampliar las funciones según se desee."
   ]
  },
  {
   "cell_type": "code",
   "execution_count": null,
   "metadata": {
    "id": "rPWvNhkyTY2R"
   },
   "outputs": [],
   "source": [
    "class Auto():\n",
    "  def __init__(self, tipo):\n",
    "    self.tipo = tipo\n",
    "\n",
    "class AutoGasolina(Auto):\n",
    "  def __init__(self, tipo):\n",
    "    self.tipo = tipo"
   ]
  },
  {
   "cell_type": "code",
   "execution_count": null,
   "metadata": {
    "colab": {
     "base_uri": "https://localhost:8080/"
    },
    "id": "RLbBGT5eVzGj",
    "outputId": "3af6aaa7-ba0a-43f1-83c7-e2f5cb8d806c"
   },
   "outputs": [
    {
     "name": "stdout",
     "output_type": "stream",
     "text": [
      "{'Color': 'Rojo', 'Engranaje': 'Auto', 'Capacidad': 6}\n"
     ]
    }
   ],
   "source": [
    "auto = Auto(\"SUV\")\n",
    "auto.propiedades = {\"Color\": \"Rojo\", \"Engranaje\": \"Auto\", \"Capacidad\": 6}\n",
    "print(auto.propiedades)"
   ]
  },
  {
   "cell_type": "code",
   "execution_count": null,
   "metadata": {
    "colab": {
     "base_uri": "https://localhost:8080/"
    },
    "id": "Y3RH2GG2ZvXV",
    "outputId": "c212282f-75f5-4440-f95f-8976bab4aaf2"
   },
   "outputs": [
    {
     "name": "stdout",
     "output_type": "stream",
     "text": [
      "{'Azul', 'Manual', 4}\n"
     ]
    }
   ],
   "source": [
    "autogasolina = AutoGasolina(\"Sedan\")\n",
    "autogasolina.propiedades = {\"Azul\", \"Manual\", 4}\n",
    "print(autogasolina.propiedades)\n"
   ]
  },
  {
   "cell_type": "markdown",
   "metadata": {
    "id": "yjWIMn8Xd_BO"
   },
   "source": [
    "Como un parentesis.  ¿Sabias que en Python, por default, los atributos de un objeto pueden ser creados de forma dinámica en cualquier parte del código?   Estos se conocen como **atributos dinámicos**\n",
    "\n",
    "    \n",
    "    class Uses:\n",
    "\n",
    "      def __init__(self, username, email):\n",
    "\n",
    "        pass\n",
    "\n",
    "py = User()\n",
    "\n",
    "py.username = 'marco'\n",
    "\n",
    "py.email = 'mhernandezvz@gmail.com'\n"
   ]
  },
  {
   "cell_type": "markdown",
   "metadata": {
    "id": "V19kG65wgrNO"
   },
   "source": [
    "Volviendo al ejemplo, como se puede ver aquí, no existe una especificación estándar para agregar propiedades del automóvil y queda en manos de los desarrolladores implementarla de la manera que más les convenga.\n",
    "\n",
    "Un desarrollador puede implementarlo como un diccionario y otro puede implementarlo como una tupla y, por lo tanto, puede implementarse de múltiples maneras.\n",
    "\n",
    "Hasta aquí no hay problema. Pero digamos que es necesario encontrar todos los autos de color rojo. Intentemos escribir una función que tome todos los autos e intentemos encontrar autos rojos en función de la implementación del objeto de la superclase “Auto”."
   ]
  },
  {
   "cell_type": "code",
   "execution_count": null,
   "metadata": {
    "id": "cHHXCBkthAem"
   },
   "outputs": [],
   "source": [
    "def encontrar_autos_rojos(lista_autos):\n",
    "  autos_rojos = 0\n",
    "  for auto in lista_autos:\n",
    "    if auto.propiedades['Color'] == \"Rojo\":\n",
    "      autos_rojos += 1\n",
    "  print(f'Numero de autos rojos = {autos_rojos} ')\n"
   ]
  },
  {
   "cell_type": "code",
   "execution_count": null,
   "metadata": {
    "id": "8lvjRoW_kWsw"
   },
   "outputs": [],
   "source": [
    "milista = [auto, autogasolina]"
   ]
  },
  {
   "cell_type": "code",
   "execution_count": null,
   "metadata": {
    "colab": {
     "base_uri": "https://localhost:8080/",
     "height": 258
    },
    "id": "ve4es9xKmTID",
    "outputId": "c2771ecc-46a3-4e8a-f87f-56f0aa6718a9"
   },
   "outputs": [
    {
     "ename": "TypeError",
     "evalue": "'set' object is not subscriptable",
     "output_type": "error",
     "traceback": [
      "\u001b[0;31m---------------------------------------------------------------------------\u001b[0m",
      "\u001b[0;31mTypeError\u001b[0m                                 Traceback (most recent call last)",
      "\u001b[0;32m<ipython-input-16-49ec837de6e3>\u001b[0m in \u001b[0;36m<cell line: 1>\u001b[0;34m()\u001b[0m\n\u001b[0;32m----> 1\u001b[0;31m \u001b[0mencontrar_autos_rojos\u001b[0m\u001b[0;34m(\u001b[0m\u001b[0mmilista\u001b[0m\u001b[0;34m)\u001b[0m\u001b[0;34m\u001b[0m\u001b[0;34m\u001b[0m\u001b[0m\n\u001b[0m",
      "\u001b[0;32m<ipython-input-13-202b458d331a>\u001b[0m in \u001b[0;36mencontrar_autos_rojos\u001b[0;34m(lista_autos)\u001b[0m\n\u001b[1;32m      2\u001b[0m   \u001b[0mautos_rojos\u001b[0m \u001b[0;34m=\u001b[0m \u001b[0;36m0\u001b[0m\u001b[0;34m\u001b[0m\u001b[0;34m\u001b[0m\u001b[0m\n\u001b[1;32m      3\u001b[0m   \u001b[0;32mfor\u001b[0m \u001b[0mauto\u001b[0m \u001b[0;32min\u001b[0m \u001b[0mlista_autos\u001b[0m\u001b[0;34m:\u001b[0m\u001b[0;34m\u001b[0m\u001b[0;34m\u001b[0m\u001b[0m\n\u001b[0;32m----> 4\u001b[0;31m     \u001b[0;32mif\u001b[0m \u001b[0mauto\u001b[0m\u001b[0;34m.\u001b[0m\u001b[0mpropiedades\u001b[0m\u001b[0;34m[\u001b[0m\u001b[0;34m'Color'\u001b[0m\u001b[0;34m]\u001b[0m \u001b[0;34m==\u001b[0m \u001b[0;34m\"Rojo\"\u001b[0m\u001b[0;34m:\u001b[0m\u001b[0;34m\u001b[0m\u001b[0;34m\u001b[0m\u001b[0m\n\u001b[0m\u001b[1;32m      5\u001b[0m       \u001b[0mautos_rojos\u001b[0m \u001b[0;34m+=\u001b[0m \u001b[0;36m1\u001b[0m\u001b[0;34m\u001b[0m\u001b[0;34m\u001b[0m\u001b[0m\n\u001b[1;32m      6\u001b[0m   \u001b[0mprint\u001b[0m\u001b[0;34m(\u001b[0m\u001b[0;34mf'Numero de autos rojos = {autos_rojos} '\u001b[0m\u001b[0;34m)\u001b[0m\u001b[0;34m\u001b[0m\u001b[0;34m\u001b[0m\u001b[0m\n",
      "\u001b[0;31mTypeError\u001b[0m: 'set' object is not subscriptable"
     ]
    }
   ],
   "source": [
    "encontrar_autos_rojos(milista)"
   ]
  },
  {
   "cell_type": "markdown",
   "metadata": {
    "id": "ul6B7-3-ndF3"
   },
   "source": [
    "Como podemos ver aquí, estamos intentando recorrer una lista de objetos de automóviles. Y aquí rompemos el principio de sustitución de Liskov ya que no podemos reemplazar los objetos de Super tipo Auto con objetos del Subtipo AutoGasolina en la función escrita para encontrar autos rojos.\n",
    "\n",
    "Una mejor manera de implementar esto sería introducir métodos setter y getter en Superclass Auto mediante los cuales podemos configurar y obtener las propiedades de Auto sin dejar esa implementación en manos de desarrolladores individuales. De esta manera simplemente obtenemos las propiedades a través de un método de establecimiento y su implementación permanece interna a la Superclase.\n",
    "\n",
    "Al hacer esto podemos cumplir con el Principio de sustitución de Liskov como se muestra a continuación:"
   ]
  },
  {
   "cell_type": "code",
   "execution_count": null,
   "metadata": {
    "id": "YUttxovdntIB"
   },
   "outputs": [],
   "source": [
    "class Auto():\n",
    "  def __init__(self, tipo):\n",
    "    self.tipo = tipo\n",
    "    self.propiedades = {}\n",
    "\n",
    "  def set_propiedades(self, color, engranaje, capacidad):\n",
    "    self.propiedades = {\"Color\": color, \"Engranaje\": engranaje, \"Capacidad\": capacidad}\n",
    "\n",
    "  def get_propiedades(self):\n",
    "    return self.propiedades\n",
    "\n",
    "class AutoGasolina(Auto):\n",
    "  def __init__(self, tipo):\n",
    "    self.tipo = tipo\n",
    "    self.propiedades = {}\n"
   ]
  },
  {
   "cell_type": "code",
   "execution_count": null,
   "metadata": {
    "colab": {
     "base_uri": "https://localhost:8080/"
    },
    "id": "83KAZH--p3Sx",
    "outputId": "6f3d04a8-fcfe-475f-de64-489d6d3c0101"
   },
   "outputs": [
    {
     "name": "stdout",
     "output_type": "stream",
     "text": [
      "{'Color': 'Rojo', 'Engranaje': 'Auto', 'Capacidad': 6}\n"
     ]
    }
   ],
   "source": [
    "auto = Auto(\"SUV\")\n",
    "auto.set_propiedades(\"Rojo\", \"Auto\", 6)\n",
    "print(auto.get_propiedades())"
   ]
  },
  {
   "cell_type": "code",
   "execution_count": null,
   "metadata": {
    "colab": {
     "base_uri": "https://localhost:8080/"
    },
    "id": "uMeIdzN_p3-l",
    "outputId": "183412f2-8cd8-4e91-a68d-876b393f0b27"
   },
   "outputs": [
    {
     "name": "stdout",
     "output_type": "stream",
     "text": [
      "{'Color': 'Azul', 'Engranaje': 'Manual', 'Capacidad': 4}\n"
     ]
    }
   ],
   "source": [
    "autogasolina = AutoGasolina(\"Sedan\")\n",
    "autogasolina.set_propiedades(\"Azul\", \"Manual\", 4)\n",
    "print(autogasolina.get_propiedades())"
   ]
  },
  {
   "cell_type": "code",
   "execution_count": null,
   "metadata": {
    "id": "VcgYyoBwrJ_K"
   },
   "outputs": [],
   "source": [
    "def encontrar_autos_rojos(lista_autos):\n",
    "  autos_rojos = 0\n",
    "  for auto in lista_autos:\n",
    "    if auto.get_propiedades()['Color'] == \"Rojo\":\n",
    "      autos_rojos += 1\n",
    "  print(f'Numero de autos rojos = {autos_rojos} ')"
   ]
  },
  {
   "cell_type": "code",
   "execution_count": null,
   "metadata": {
    "id": "vVRSAorcsN4t"
   },
   "outputs": [],
   "source": [
    "milista = [auto, autogasolina]"
   ]
  },
  {
   "cell_type": "code",
   "execution_count": null,
   "metadata": {
    "colab": {
     "base_uri": "https://localhost:8080/"
    },
    "id": "pIxdbcc_sRdb",
    "outputId": "5b452d86-6a01-44d0-935e-faf67fd174d0"
   },
   "outputs": [
    {
     "name": "stdout",
     "output_type": "stream",
     "text": [
      "Numero de autos rojos = 1 \n"
     ]
    }
   ],
   "source": [
    "encontrar_autos_rojos(milista)"
   ]
  },
  {
   "cell_type": "markdown",
   "metadata": {
    "id": "vsHjqj_xGKEG"
   },
   "source": [
    "# **Interface Segregation Principle (ISP)**\n",
    "\n",
    "---"
   ]
  },
  {
   "cell_type": "markdown",
   "metadata": {
    "id": "emxs6j7THA7m"
   },
   "source": [
    "El Principio de Segregación de Interfaz establece que \"Ningún cliente debe verse obligado a depender de métodos que no utiliza\".  NO se puede obligar a usar cosas que no debe usar.\n",
    "\n",
    "El principio de segregación de interfaces sugiere crear interfaces más pequeñas conocidas como \"interfaces de roles\" en lugar de una interfaz grande que consta de múltiples métodos. Al segregar los métodos basados en roles en interfaces de roles más pequeñas, los clientes dependerían sólo de los métodos que son relevantes para ellos.\n"
   ]
  },
  {
   "cell_type": "markdown",
   "metadata": {
    "id": "JGNaTO67Ifmn"
   },
   "source": [
    "Vamos a crear una interfaz lo cual obligará la implementación de los métodos en todas las clases que hereden de ella."
   ]
  },
  {
   "cell_type": "code",
   "execution_count": null,
   "metadata": {
    "id": "HS4hOOBwIdd0"
   },
   "outputs": [],
   "source": [
    "from abc import ABC, abstractmethod\n",
    "\n",
    "class Trabajador(ABC):\n",
    "\n",
    "\t@abstractmethod\n",
    "\tdef comer(self):\n",
    "\t\tpass\n",
    "\n",
    "\t@abstractmethod\n",
    "\tdef trabajar(self):\n",
    "\t\tpass\n",
    "\n",
    "\t@abstractmethod\n",
    "\tdef dormir(self):\n",
    "\t\tpass\n"
   ]
  },
  {
   "cell_type": "markdown",
   "metadata": {
    "id": "oyM_Nco_ItkR"
   },
   "source": [
    "Dada la anterior interfaz, creamos una clase de Humano."
   ]
  },
  {
   "cell_type": "code",
   "execution_count": null,
   "metadata": {
    "id": "nCiGNBlYIsuz"
   },
   "outputs": [],
   "source": [
    "class Humano(Trabajador):\n",
    "\tdef comer(self):\n",
    "\t\tprint(\"El humano está comiendo\")\n",
    "\n",
    "\n",
    "\tdef trabajar(self):\n",
    "\t\tprint(\"El humano está trabajando\")\n",
    "\n",
    "\n",
    "\tdef dormir(self):\n",
    "\t\tprint(\"El humano está durmiendo\")"
   ]
  },
  {
   "cell_type": "markdown",
   "metadata": {
    "id": "wH8pi404JCFh"
   },
   "source": [
    "Dada la interfaz, hacemos una clase Robot.  Pero solo queremos permitir que el robot trabaje (hasta ahora no pueden comer o dormir como tal), por tanto, solamente implementamos el método \"trabajar\"."
   ]
  },
  {
   "cell_type": "code",
   "execution_count": null,
   "metadata": {
    "id": "sJ4u3Jp9JMDc"
   },
   "outputs": [],
   "source": [
    "class Robot(Trabajador):\n",
    "\n",
    "\tdef trabajar(self):\n",
    "\t\tprint(\"El humano está trabajando\")\n"
   ]
  },
  {
   "cell_type": "markdown",
   "metadata": {
    "id": "pllxmEcXJcQR"
   },
   "source": [
    "Ahora instanciamos un objeto de humano."
   ]
  },
  {
   "cell_type": "code",
   "execution_count": null,
   "metadata": {
    "colab": {
     "base_uri": "https://localhost:8080/"
    },
    "id": "fJ7diGODJgcz",
    "outputId": "f1273641-1d0c-4b86-c5cf-2c07e774919c"
   },
   "outputs": [
    {
     "name": "stdout",
     "output_type": "stream",
     "text": [
      "El humano está comiendo\n"
     ]
    }
   ],
   "source": [
    "mihumano = Humano()\n",
    "\n",
    "mihumano.comer()\n"
   ]
  },
  {
   "cell_type": "markdown",
   "metadata": {
    "id": "PohzOUdtJqY6"
   },
   "source": [
    "Ahora instanciamos un objeto de Robot"
   ]
  },
  {
   "cell_type": "code",
   "execution_count": null,
   "metadata": {
    "colab": {
     "base_uri": "https://localhost:8080/",
     "height": 139
    },
    "id": "3-ts4tigJ5-Q",
    "outputId": "7f99fc6e-c439-4516-a2b4-438d6e657513"
   },
   "outputs": [
    {
     "ename": "TypeError",
     "evalue": "Can't instantiate abstract class Robot with abstract methods comer, dormir",
     "output_type": "error",
     "traceback": [
      "\u001b[0;31m---------------------------------------------------------------------------\u001b[0m",
      "\u001b[0;31mTypeError\u001b[0m                                 Traceback (most recent call last)",
      "\u001b[0;32m<ipython-input-11-b418ad9f6ab3>\u001b[0m in \u001b[0;36m<cell line: 1>\u001b[0;34m()\u001b[0m\n\u001b[0;32m----> 1\u001b[0;31m \u001b[0mrobot\u001b[0m \u001b[0;34m=\u001b[0m \u001b[0mRobot\u001b[0m\u001b[0;34m(\u001b[0m\u001b[0;34m)\u001b[0m\u001b[0;34m\u001b[0m\u001b[0;34m\u001b[0m\u001b[0m\n\u001b[0m",
      "\u001b[0;31mTypeError\u001b[0m: Can't instantiate abstract class Robot with abstract methods comer, dormir"
     ]
    }
   ],
   "source": [
    "robot = Robot()"
   ]
  },
  {
   "cell_type": "markdown",
   "metadata": {
    "id": "vqxqrQVLJ9Kk"
   },
   "source": [
    "No envia un error, indicando que no hay una implementación a métodos que obligaroriamente tienen que existir.\n",
    "\n",
    "Para corregir este error, tendriamos que modificar la clase de la siguiente manera:\n"
   ]
  },
  {
   "cell_type": "code",
   "execution_count": null,
   "metadata": {
    "id": "K0hnnfwKKdAT"
   },
   "outputs": [],
   "source": [
    "class Robot(Trabajador):\n",
    "  def comer(self):\n",
    "    pass\n",
    "\n",
    "  def trabajar(self):\n",
    "    print(\"El humano está trabajando\")\n",
    "\n",
    "  def dormir(self):\n",
    "    pass"
   ]
  },
  {
   "cell_type": "markdown",
   "metadata": {
    "id": "n84IKoHgLMCG"
   },
   "source": [
    "Pero esto es incorrecto, pues estamos colocando código \"no activo\", pues los robots no comen ni duermen, por tanto dichos métodos no tienen implementación."
   ]
  },
  {
   "cell_type": "markdown",
   "metadata": {
    "id": "8ZBSA8zSLcnP"
   },
   "source": [
    "Para poder corregir esto, se debe segmentar la interfaz en más interfaces más pequeñas.\n",
    "\n",
    "Curiosamente, en este caso, para solucionar este problema también debemos aplicar el primer principio.\n"
   ]
  },
  {
   "cell_type": "code",
   "execution_count": null,
   "metadata": {
    "id": "PI6p5ZnxMCjp"
   },
   "outputs": [],
   "source": [
    "from abc import ABC, abstractmethod\n",
    "\n",
    "class Trabajador(ABC):\n",
    "\t@abstractmethod\n",
    "\tdef trabajar(self):\n",
    "\t\tpass\n",
    "\n",
    "class Comelon(ABC):\n",
    "\t@abstractmethod\n",
    "\tdef comer(self):\n",
    "\t\tpass\n",
    "\n",
    "class Durmiente(ABC):\n",
    "\t@abstractmethod\n",
    "\tdef dormir(self):\n",
    "\t\tpass"
   ]
  },
  {
   "cell_type": "markdown",
   "metadata": {
    "id": "erycglHHMgvg"
   },
   "source": [
    "Ahora redefinimos la clase Humano, pero esta vez heredará de tres interfaces.  "
   ]
  },
  {
   "cell_type": "code",
   "execution_count": null,
   "metadata": {
    "id": "rFHKbSvDMoZ9"
   },
   "outputs": [],
   "source": [
    "class Humano(Trabajador, Comelon, Durmiente):\n",
    "\tdef comer(self):\n",
    "\t\tprint(\"El humano está comiendo\")\n",
    "\n",
    "\n",
    "\tdef trabajar(self):\n",
    "\t\tprint(\"El humano está trabajando\")\n",
    "\n",
    "\n",
    "\tdef dormir(self):\n",
    "\t\tprint(\"El humano está durmiendo\")"
   ]
  },
  {
   "cell_type": "markdown",
   "metadata": {
    "id": "09IVxfrrM0CZ"
   },
   "source": [
    "Además redefinimos la clase Robot, pero heredando unicamente de la interfaz Trabajador."
   ]
  },
  {
   "cell_type": "code",
   "execution_count": null,
   "metadata": {
    "id": "mz83ROGJM7jp"
   },
   "outputs": [],
   "source": [
    "class Robot(Trabajador):\n",
    "  def trabajar(self):\n",
    "    print(\"El robot está trabajando\")\n"
   ]
  },
  {
   "cell_type": "markdown",
   "metadata": {
    "id": "N3O8ZvarNA3U"
   },
   "source": [
    "y de esta manera ya podemos instanciar sin ningún problema tal y como deseamos."
   ]
  },
  {
   "cell_type": "code",
   "execution_count": null,
   "metadata": {
    "id": "jDWwMoRkNGW7"
   },
   "outputs": [],
   "source": [
    "robot = Robot()\n",
    "\n",
    "mihumano = Humano()"
   ]
  },
  {
   "cell_type": "markdown",
   "metadata": {
    "id": "wax2khK3vFha"
   },
   "source": [
    "**Otro ejemplo**\n",
    "\n",
    "Digamos que estamos diseñando una aplicación para diferentes dispositivos de comunicación. Identificamos que un dispositivo de comunicación es un dispositivo que tendría una o varias de estas características\n",
    "- hacer llamadas,\n",
    "- enviar SMS y\n",
    "- navegar por Internet.\n",
    "    \n",
    "Entonces, creamos una interfaz llamada **DispositivoComunicacion** y agregamos los métodos abstractos respectivos para cada una de estas características, de modo que cualquier clase de implementación necesite implementar estos métodos.\n",
    "\n",
    "Luego creamos una clase **Celular** usando la interfaz DispositivoComunicacion e implementamos las funcionalidades de los métodos abstractos. Hasta aquí todo está bien.\n",
    "\n",
    "\n",
    "Ahora digamos que queremos implementar un teléfono fijo tradicional. Este también es un dispositivo de comunicación, por lo que creamos una nueva clase TelefonoFijo usando la misma interfaz DispositivoComunicacion. Aquí es exactamente cuando nos enfrentamos al problema debido a una gran interfaz DispositivoComunicación que creamos.\n",
    "\n",
    "En la clase TelefonoFijo, implementamos el método hacerLlamadas(), pero como también heredamos los métodos abstractos enviarSms() y navegarInternet() tenemos que proporcionar una implementación de estos dos métodos abstractos también en la clase TelefonoFijo incluso si no son aplicables a Esta clase de teléfono fijo. Podemos lanzar una excepción o simplemente escribir un pase en la implementación, pero aún necesitamos proporcionar una implementación.\n"
   ]
  },
  {
   "cell_type": "code",
   "execution_count": null,
   "metadata": {
    "id": "CMdCO3rt0Ihp"
   },
   "outputs": [],
   "source": [
    "#Creamos la interfaz\n",
    "from abc import ABC, abstractmethod\n",
    "\n",
    "class DispositivoComunicacion():\n",
    "  @abstractmethod\n",
    "  def hacer_llamadas():\n",
    "    pass\n",
    "\n",
    "  @abstractmethod\n",
    "  def enviar_sms():\n",
    "    pass\n",
    "\n",
    "  @abstractmethod\n",
    "  def navegar_internet():\n",
    "    pass\n",
    "\n",
    "\n",
    "#Creamos las clases\n",
    "\n",
    "class Celular(DispositivoComunicacion):\n",
    "  def hacer_llamadas():\n",
    "    #implementacion\n",
    "    pass\n",
    "\n",
    "  def enviar_sms():\n",
    "    #implementacion\n",
    "    pass\n",
    "\n",
    "  def navegar_internet():\n",
    "    #implementacion\n",
    "    pass\n",
    "\n",
    "\n",
    "\n",
    "class TelefonoFijo(DispositivoComunicacion):\n",
    "  def hacer_llamadas():\n",
    "    #implementacion\n",
    "    pass\n",
    "\n",
    "  def enviar_sms():\n",
    "    #implementacion\n",
    "    pass\n",
    "\n",
    "  def navegar_internet():\n",
    "    #implementacion\n",
    "    pass"
   ]
  },
  {
   "cell_type": "markdown",
   "metadata": {
    "id": "tsb7nkHQ3P2w"
   },
   "source": [
    "Esto se puede corregir siguiendo el principio de segregación de interfaz como se muestra en el siguiente ejemplo.\n",
    "\n",
    "En lugar de crear una interfaz grande, creamos interfaces de roles más pequeñas para cada método. Las clases respectivas solo usarían interfaces relacionadas."
   ]
  },
  {
   "cell_type": "code",
   "execution_count": null,
   "metadata": {
    "id": "Wc3rouw83buQ"
   },
   "outputs": [],
   "source": [
    "#Creamos la interfaz\n",
    "from abc import ABC, abstractmethod\n",
    "\n",
    "class DispositivoLlamada():\n",
    "  @abstractmethod\n",
    "  def hacer_llamadas():\n",
    "    pass\n",
    "\n",
    "class DispositivoMensajes():\n",
    "  @abstractmethod\n",
    "  def enviar_sms():\n",
    "    pass\n",
    "\n",
    "class DispositivoNavegacion():\n",
    "  @abstractmethod\n",
    "  def navegar_internet():\n",
    "    pass\n",
    "\n",
    "\n",
    "#Creamos las clases\n",
    "\n",
    "class Celular(DispositivoLlamada, DispositivoMensajes, DispositivoNavegacion):\n",
    "  def hacer_llamadas():\n",
    "    #implementacion\n",
    "    pass\n",
    "\n",
    "  def enviar_sms():\n",
    "    #implementacion\n",
    "    pass\n",
    "\n",
    "  def navegar_internet():\n",
    "    #implementacion\n",
    "    pass\n",
    "\n",
    "\n",
    "\n",
    "class TelefonoFijo(DispositivoLlamada):\n",
    "  def hacer_llamadas():\n",
    "    #implementacion\n",
    "    pass\n"
   ]
  },
  {
   "cell_type": "markdown",
   "metadata": {
    "id": "Wx3gfciqNkXk"
   },
   "source": [
    "# **Dependency Inversion Principle (DIP)**\n",
    "\n",
    "---"
   ]
  },
  {
   "cell_type": "markdown",
   "metadata": {
    "id": "x4est2yXR7Cc"
   },
   "source": [
    "El Principio de Inversión de Dependencia establece que:\n",
    "\n",
    "- a). El módulo de alto nivel no debe depender de módulos de bajo nivel. Ambos deberían depender de abstracciones.\n",
    "\n",
    "- b). Las abstracciones no deberían depender de los detalles. Los detalles deberían depender de abstracciones.\n",
    "\n",
    "Si su código sigue el principio abierto-cerrado y el principio de sustitución de Liskov, entonces estará implícitamente alineado para cumplir también con el principio de inversión de dependencia.\n",
    "\n",
    "Siguiendo el principio abierto-cerrado, crea interfaces que pueden usarse para proporcionar diferentes implementaciones de alto nivel. Al seguir el principio de sustitución de Liskov, se asegura de poder reemplazar los objetos de clase de bajo nivel con objetos de clase de alto nivel sin causar ningún efecto adverso en la aplicación. Por lo tanto, al seguir estos dos principios, se asegura de que sus clases de alto nivel y clases de bajo nivel dependan de las interfaces. Por lo tanto, seguiría implícitamente el principio de inversión de dependencia.\n",
    "\n",
    "Esto nos permite ser más flexibles, nos permite realizar cambios a bajo nivel que no obligan a realizar cambios en alto nivel.\n",
    "\n",
    "\n",
    "Vamos a realizar un corrector ortográfico que hará uso de un Diccionario."
   ]
  },
  {
   "cell_type": "code",
   "execution_count": null,
   "metadata": {
    "id": "gQis6OyJTFpy"
   },
   "outputs": [],
   "source": [
    "class Diccionario:\n",
    "\tdef verificar_palabra(self, palabra):\n",
    "\t\t#Lógica para verificar palabras\n",
    "\t\tpass\n",
    "\n",
    "class CorrectorOrtografico:\n",
    "\tdef __init__(self):\n",
    "\t\tself.diccionario = Diccionario()\n",
    "\n",
    "\tdef corregir_texto(self, texto):\n",
    "\t\t#Usamos el diccionario para corregir el texto\n",
    "\t\tpass\n"
   ]
  },
  {
   "cell_type": "markdown",
   "metadata": {
    "id": "2P_6PyG0TKS1"
   },
   "source": [
    "Como puede observar, la clase principal del corrector es la clase \"CorrectorOrtografico\" pero esta, se encuentra altamente dependiente al Diccionario, por tanto, cualquier variable o método de Diccionario tendrá sus repercusiones en la clase principal de CorrectorOrtografico.\n",
    "\n",
    "Si quisieramos cambiar la forma de verificar las palabras y usar un mecanismo de internet, o un servicio distinto, se tendría que cambiar la clase \"CorrectorOrtografico\" pues esta solamente usa el diccionario.\n",
    "\n",
    "\n",
    "Se puede solucionar de la siguiente manera:\n"
   ]
  },
  {
   "cell_type": "code",
   "execution_count": null,
   "metadata": {
    "id": "MlbEKzSOXnML"
   },
   "outputs": [],
   "source": [
    "from abc import ABC, abstractmethod\n",
    "\n",
    "class VerificadorOrtografico(ABC):\n",
    "\t@abstractmethod\n",
    "\tdef verificar_palabra(self, palabra):\n",
    "\t\tpass\n",
    "\n",
    "\n",
    "class Diccionario(VerificadorOrtografico):\n",
    "\tdef verificar_palabra(self, palabra):\n",
    "\t\t#Lógica para verificar palabras si esta en el diccionario\n",
    "\t\tpass\n",
    "\n",
    "class CorrectorOrtografico:\n",
    "\tdef __init__(self, verificador):\n",
    "\t\tself.verificador = verificador\n",
    "\n",
    "\tdef corregir_texto(self, texto):\n",
    "\t\t#Usamos el diccionario para corregir el texto\n",
    "\t\tpass\n",
    "\n"
   ]
  },
  {
   "cell_type": "markdown",
   "metadata": {
    "id": "lEge4dw4X2O2"
   },
   "source": [
    "Ahora CorrectorOrtografico esta dependiendo de una abstracción por tanto es mucho más flexible.\n",
    "\n",
    "De la manera anterior, aún podemos continuar usando el diccionario sin ningún problema, pero además nos ofrece la flexibilidad para utilizar otros mecanismos de verificador, por ejemplo un servicio online.\n",
    "\n"
   ]
  },
  {
   "cell_type": "code",
   "execution_count": null,
   "metadata": {
    "id": "T28VWRFlYZuT"
   },
   "outputs": [],
   "source": [
    "from abc import ABC, abstractmethod\n",
    "\n",
    "class VerificadorOrtografico(ABC):\n",
    "\t@abstractmethod\n",
    "\tdef verificar_palabra(self, palabra):\n",
    "\t\tpass\n",
    "\n",
    "\n",
    "class Diccionario(VerificadorOrtografico):\n",
    "\tdef verificar_palabra(self, palabra):\n",
    "\t\t#Lógica para verificar palabras si esta en el diccionario\n",
    "\t\tpass\n",
    "\n",
    "\n",
    "class ServicioOnline(VerificadorOrtografico):\n",
    "\tdef verificar_palabra(self, palabra):\n",
    "\t\t#Lógica para verificar palabras desde el servicio web\n",
    "\t\tpass\n",
    "\n",
    "\n",
    "class CorrectorOrtografico:\n",
    "\tdef __init__(self, verificador):\n",
    "\t\tself.verificador = verificador\n",
    "\n",
    "\tdef corregir_texto(self, texto):\n",
    "\t\t#Usamos el diccionario para corregir el texto\n",
    "\t\tpass\n",
    "\n"
   ]
  },
  {
   "cell_type": "markdown",
   "metadata": {
    "id": "RqwtVDFJc9jI"
   },
   "source": [
    "Así de esta manera, ya no existe una dependencia de diccionario, pues podemos \"parametrizar\" el verificador.   Podemos continuar con:\n"
   ]
  },
  {
   "cell_type": "code",
   "execution_count": null,
   "metadata": {
    "id": "iSJgIUaQdFTc"
   },
   "outputs": [],
   "source": [
    "corrector = CorrectorOrtografico(Diccionario)\n",
    "\n"
   ]
  },
  {
   "cell_type": "markdown",
   "metadata": {
    "id": "sLL4MKnKdHqi"
   },
   "source": [
    "Pero si queremos utilizar otro mecanismo, gracias a la interfaz podemos hacerlo con el minimo cambio.\n"
   ]
  },
  {
   "cell_type": "code",
   "execution_count": null,
   "metadata": {
    "id": "OgV2quQOdN5y"
   },
   "outputs": [],
   "source": [
    "corrector = CorrectorOrtografico(ServicioOnline)"
   ]
  },
  {
   "cell_type": "markdown",
   "metadata": {
    "id": "iZYbCjHedZJM"
   },
   "source": [
    "Como verificador es una clase abstracta se tienen todos los métodos que se necesitan ahí mismo, los cuales se podrán continuar usando, métodos tales como buscar_similares(), corregir_ortografia(), agregar_acento(), etc."
   ]
  },
  {
   "cell_type": "code",
   "execution_count": null,
   "metadata": {
    "id": "mLKYZpPO6MDZ"
   },
   "outputs": [],
   "source": [
    "from abc import ABC, abstractmethod\n",
    "\n",
    "\n",
    "class PaymentMethod(ABC):\n",
    "    @abstractmethod\n",
    "    def process_payment(self, payment):\n",
    "        pass\n",
    "\n",
    "\n",
    "class PaymentProcessor:\n",
    "    def __init__(self, payment_method):\n",
    "        self.payment_method = payment_method\n",
    "\n",
    "    def process_payment(self, payment):\n",
    "        self.payment_method.process_payment(payment)\n",
    "\n",
    "\n",
    "class CreditCardPayment(PaymentMethod):\n",
    "    def process_payment(self, payment):\n",
    "        # Code to charge credit card\n",
    "\n",
    "\n",
    "class PayPalPayment(PaymentMethod):\n",
    "    def process_payment(self, payment):\n",
    "        # Code to process PayPal payment"
   ]
  },
  {
   "cell_type": "markdown",
   "metadata": {
    "id": "dNut0zx068lG"
   },
   "source": [
    "**Otro Ejemplo**\n",
    "\n",
    "Como se muestra en el siguiente código, tenemos una clase Estudiante que usamos para crear entidades Estudiante y una clase Membresias que contiene membresías de diferentes estudiantes en diferentes equipos.\n",
    "\n",
    "Ahora definimos un Análisis de clase de alto nivel donde necesitamos conocer a todos los estudiantes que pertenecen al equipo TEC."
   ]
  },
  {
   "cell_type": "code",
   "execution_count": 2,
   "metadata": {
    "id": "W13YE8nU7Yl0"
   },
   "outputs": [],
   "source": [
    "\n",
    "from enum import Enum\n",
    "from abc import ABC, abstractmethod\n",
    "\n",
    "class Equipo(Enum):\n",
    "  EQUIPO_TEC = 1\n",
    "  EQUIPO_UCR = 2\n",
    "  EQUIPO_UNA = 3\n",
    "\n",
    "class Estudiante:\n",
    "  def __init__(self, nombre):\n",
    "    self.nombre = nombre\n",
    "\n",
    "class MembresiaEquipos():  # TeamMemberships\n",
    "  def __init__(self):\n",
    "    self.Equipos = []   #team_memberships\n",
    "\n",
    "  def agregar_miembro(self, estudiante, equipo):\n",
    "    self.Equipos.append((estudiante, equipo))\n",
    "\n",
    "class Analisis():\n",
    "  def __init__(self, membresia_estudiante_equipo):\n",
    "    membresia = membresia_estudiante_equipo.Equipos\n",
    "    for miembros in membresia:\n",
    "      if miembros[1] == Equipo.EQUIPO_TEC:\n",
    "        print(f'{miembros[0].nombre} esta en el equipo TEC')\n"
   ]
  },
  {
   "cell_type": "code",
   "execution_count": 3,
   "metadata": {
    "id": "Q6vEO7vN97aO"
   },
   "outputs": [],
   "source": [
    "estudiante1 = Estudiante('Ignacio')\n",
    "estudiante2 = Estudiante('Jennifer')\n",
    "estudiante3 = Estudiante('Marco')"
   ]
  },
  {
   "cell_type": "code",
   "execution_count": 4,
   "metadata": {
    "id": "3TshWZm5-Tak"
   },
   "outputs": [],
   "source": [
    "equiposUniversitarios = MembresiaEquipos()\n",
    "equiposUniversitarios.agregar_miembro(estudiante1, Equipo.EQUIPO_UCR)\n",
    "equiposUniversitarios.agregar_miembro(estudiante2, Equipo.EQUIPO_UNA)\n",
    "equiposUniversitarios.agregar_miembro(estudiante3, Equipo.EQUIPO_TEC)\n"
   ]
  },
  {
   "cell_type": "code",
   "execution_count": 5,
   "metadata": {
    "colab": {
     "base_uri": "https://localhost:8080/"
    },
    "id": "w6FqBI4c-wEd",
    "outputId": "425c0cf2-1438-4bda-e86c-725f2e115874"
   },
   "outputs": [
    {
     "name": "stdout",
     "output_type": "stream",
     "text": [
      "Marco esta en el equipo TEC\n"
     ]
    },
    {
     "data": {
      "text/plain": [
       "<__main__.Analisis at 0x7918f433c460>"
      ]
     },
     "execution_count": 5,
     "metadata": {},
     "output_type": "execute_result"
    }
   ],
   "source": [
    "Analisis(equiposUniversitarios)"
   ]
  },
  {
   "cell_type": "markdown",
   "metadata": {
    "id": "0NxyZon4BtdA"
   },
   "source": [
    "Como podemos ver en esta implementación, estamos usando directamente membresia_estudiante_equipo.Equipos en nuestro Análisis de clase de alto nivel y estamos usando la implementación de esta lista directamente en la clase de alto nivel.\n",
    "\n",
    "Por ahora, esto está bien, pero imagina una situación en la que necesitemos cambiar esta implementación de lista a otra cosa. En ese caso, nuestro análisis de clase de alto nivel se rompería, ya que depende de los detalles de implementación de las membresías de equipo de clase de bajo nivel.\n",
    "\n",
    "Ahora vea el siguiente ejemplo donde cambiamos esta implementación y la hacemos cumplir con el principio de inversión de dependencia."
   ]
  },
  {
   "cell_type": "code",
   "execution_count": 2,
   "metadata": {
    "id": "_oCHQNC_DWaI"
   },
   "outputs": [],
   "source": [
    "from enum import Enum\n",
    "from abc import ABC, abstractmethod\n",
    "\n",
    "class Equipo(Enum):\n",
    "  EQUIPO_TEC = 1\n",
    "  EQUIPO_UCR = 2\n",
    "  EQUIPO_UNA = 3\n",
    "\n",
    "class Estudiante:\n",
    "  def __init__(self, nombre):\n",
    "    self.nombre = nombre\n",
    "\n",
    "class BuscarMiembros(ABC):\n",
    "  @abstractmethod\n",
    "  def encontrar_estudiantes_equipo(self, equipo):\n",
    "    pass\n",
    "\n",
    "class MembresiaEquipos(BuscarMiembros):  # TeamMemberships\n",
    "  def __init__(self):\n",
    "    self.Equipos = []   #team_memberships\n",
    "\n",
    "  def agregar_miembro(self, estudiante, equipo):\n",
    "    self.Equipos.append((estudiante, equipo))\n",
    "\n",
    "  def encontrar_estudiantes_equipo(self, equipo):\n",
    "    for miembros in self.Equipos:\n",
    "      if miembros[1] == equipo:\n",
    "        yield miembros[0].nombre\n",
    "\n",
    "class Analisis():\n",
    "  def __init__(self, buscar_miembro_equipo):\n",
    "    for estudiante in buscar_miembro_equipo.encontrar_estudiantes_equipo(Equipo.EQUIPO_TEC):\n",
    "        print(f'{estudiante} esta en el equipo TEC')\n",
    "\n",
    "\n"
   ]
  },
  {
   "cell_type": "code",
   "execution_count": 3,
   "metadata": {
    "id": "WH629ooYNLhb"
   },
   "outputs": [],
   "source": [
    "estudiante1 = Estudiante('Ignacio')\n",
    "estudiante2 = Estudiante('Jennifer')\n",
    "estudiante3 = Estudiante('Marco')"
   ]
  },
  {
   "cell_type": "code",
   "execution_count": 4,
   "metadata": {
    "id": "B8o6KNFYNO0G"
   },
   "outputs": [],
   "source": [
    "equiposUniversitarios = MembresiaEquipos()\n",
    "equiposUniversitarios.agregar_miembro(estudiante1, Equipo.EQUIPO_UCR)\n",
    "equiposUniversitarios.agregar_miembro(estudiante2, Equipo.EQUIPO_UNA)\n",
    "equiposUniversitarios.agregar_miembro(estudiante3, Equipo.EQUIPO_TEC)\n"
   ]
  },
  {
   "cell_type": "code",
   "execution_count": 5,
   "metadata": {
    "colab": {
     "base_uri": "https://localhost:8080/"
    },
    "id": "O2RU8tClNR5A",
    "outputId": "057d99e8-85ed-4be2-ba1e-bf5a19fe3e6a"
   },
   "outputs": [
    {
     "name": "stdout",
     "output_type": "stream",
     "text": [
      "Marco esta en el equipo TEC\n"
     ]
    },
    {
     "data": {
      "text/plain": [
       "<__main__.Analisis at 0x75a9edbb59f0>"
      ]
     },
     "execution_count": 5,
     "metadata": {},
     "output_type": "execute_result"
    }
   ],
   "source": [
    "Analisis(equiposUniversitarios)"
   ]
  },
  {
   "cell_type": "markdown",
   "metadata": {
    "id": "cyEUWAcTzJTd"
   },
   "source": [
    "# **Resumen**\n",
    "\n",
    "---"
   ]
  },
  {
   "cell_type": "markdown",
   "metadata": {
    "id": "5Hyv4SmA1mLw"
   },
   "source": [
    "![image.png](data:image/png;base64,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)"
   ]
  },
  {
   "cell_type": "markdown",
   "metadata": {
    "id": "uhw9zW9A1ojL"
   },
   "source": [
    "# **Taller**\n",
    "\n",
    "---"
   ]
  },
  {
   "cell_type": "markdown",
   "metadata": {
    "id": "PiZksi9h2EJE"
   },
   "source": [
    "Desarrolle un ejemplo suyo (no copiado de otro lado) en el cual presente la aplicación de todos y cada uno de los principios de diseño **SOLID**.     \n",
    "\n",
    "Puede ser un solo ejemplo aplicando todo los conceptos, o bien, un ejemplo distinto para cada principio.\n",
    "\n",
    "Lo importante es que cada ejemplo presente lo siguiente:\n",
    "- Código SIN aplicar el respectivo principio\n",
    "- Código APLICANDO el respectivo principio\n",
    "- Justificación del problema sin aplicar el principio, y justificación de lo en la aplicación del principio.\n",
    "\n",
    "\n",
    "\n",
    "Los principios a utilizar son:\n",
    "\n",
    "*`S`ingle Responsibility Principle* **(SRP)** o Principio de Responsabilidad Única\n",
    "\n",
    "*`O`pen-Closed Principle* **(OCP)** o Principio de Abierto/Cerrado\n",
    "\n",
    "*`L`iskov Substitution Principle* **(LSP)** o Principio de Substitución de Liskov\n",
    "\n",
    "*`I`nterface Segregation Principle* **(ISP)** o Principio de Segregación de Interfaz\n",
    "\n",
    "*`D`ependency Inversion Principle* **(DIP)** o Principio de Inversión de Dependencias"
   ]
  }
 ],
 "metadata": {
  "colab": {
   "provenance": []
  },
  "kernelspec": {
   "display_name": "Python 3 (ipykernel)",
   "language": "python",
   "name": "python3"
  },
  "language_info": {
   "codemirror_mode": {
    "name": "ipython",
    "version": 3
   },
   "file_extension": ".py",
   "mimetype": "text/x-python",
   "name": "python",
   "nbconvert_exporter": "python",
   "pygments_lexer": "ipython3",
   "version": "3.10.12"
  }
 },
 "nbformat": 4,
 "nbformat_minor": 4
}
